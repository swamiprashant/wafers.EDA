{
  "nbformat": 4,
  "nbformat_minor": 0,
  "metadata": {
    "colab": {
      "provenance": []
    },
    "kernelspec": {
      "name": "python3",
      "display_name": "Python 3"
    },
    "language_info": {
      "name": "python"
    }
  },
  "cells": [
    {
      "cell_type": "code",
      "execution_count": 2,
      "metadata": {
        "colab": {
          "base_uri": "https://localhost:8080/"
        },
        "id": "zg3bRnTuTjtA",
        "outputId": "2e346d17-9a18-40f7-ea65-b22d7a3e422c"
      },
      "outputs": [
        {
          "output_type": "stream",
          "name": "stdout",
          "text": [
            "shape of the wafers file: (100, 592)\n"
          ]
        }
      ],
      "source": [
        "import pandas as pd\n",
        "import numpy as np\n",
        "import matplotlib.pyplot as plt\n",
        "import seaborn as sns\n",
        "import zipfile\n",
        "import warnings\n",
        "warnings.filterwarnings(\"ignore\")\n",
        "\n",
        "\n",
        "\n",
        "wafers=pd.read_csv(\"/content/wafer_23012020_041211 (2).csv\")\n",
        "print(\"shape of the wafers file:\", wafers.shape)"
      ]
    },
    {
      "cell_type": "code",
      "source": [
        "wafers.head()"
      ],
      "metadata": {
        "id": "cGg-g_6EUTWZ",
        "colab": {
          "base_uri": "https://localhost:8080/",
          "height": 359
        },
        "outputId": "30acbeab-12a4-487f-d657-fc03522b4aee"
      },
      "execution_count": 3,
      "outputs": [
        {
          "output_type": "execute_result",
          "data": {
            "text/plain": [
              "  Unnamed: 0  Sensor-1  Sensor-2   Sensor-3   Sensor-4  Sensor-5  Sensor-6  \\\n",
              "0  Wafer-801   2968.33   2476.58  2216.7333  1748.0885    1.1127     100.0   \n",
              "1  Wafer-802   2961.04   2506.43  2170.0666  1364.5157    1.5447     100.0   \n",
              "2  Wafer-803   3072.03   2500.68  2205.7445  1363.1048    1.0518     100.0   \n",
              "3  Wafer-804   3021.83   2419.83  2205.7445  1363.1048    1.0518     100.0   \n",
              "4  Wafer-805   3006.95   2435.34  2189.8111  1084.6502    1.1993     100.0   \n",
              "\n",
              "   Sensor-7  Sensor-8  Sensor-9  ...  Sensor-582  Sensor-583  Sensor-584  \\\n",
              "0   97.5822    0.1242    1.5300  ...         NaN      0.5004      0.0120   \n",
              "1   96.7700    0.1230    1.3953  ...         NaN      0.4994      0.0115   \n",
              "2  101.8644    0.1220    1.3896  ...         NaN      0.4987      0.0118   \n",
              "3  101.8644    0.1220    1.4108  ...         NaN      0.4934      0.0123   \n",
              "4  104.8856    0.1234    1.5094  ...         NaN      0.4987      0.0145   \n",
              "\n",
              "   Sensor-585  Sensor-586  Sensor-587  Sensor-588  Sensor-589  Sensor-590  \\\n",
              "0      0.0033      2.4069      0.0545      0.0184      0.0055     33.7876   \n",
              "1      0.0031      2.3020      0.0545      0.0184      0.0055     33.7876   \n",
              "2      0.0036      2.3719      0.0545      0.0184      0.0055     33.7876   \n",
              "3      0.0040      2.4923      0.0545      0.0184      0.0055     33.7876   \n",
              "4      0.0041      2.8991      0.0545      0.0184      0.0055     33.7876   \n",
              "\n",
              "   Good/Bad  \n",
              "0        -1  \n",
              "1         1  \n",
              "2        -1  \n",
              "3        -1  \n",
              "4        -1  \n",
              "\n",
              "[5 rows x 592 columns]"
            ],
            "text/html": [
              "\n",
              "  <div id=\"df-41b60191-f46c-45b8-a20b-3ca86b35f5bd\" class=\"colab-df-container\">\n",
              "    <div>\n",
              "<style scoped>\n",
              "    .dataframe tbody tr th:only-of-type {\n",
              "        vertical-align: middle;\n",
              "    }\n",
              "\n",
              "    .dataframe tbody tr th {\n",
              "        vertical-align: top;\n",
              "    }\n",
              "\n",
              "    .dataframe thead th {\n",
              "        text-align: right;\n",
              "    }\n",
              "</style>\n",
              "<table border=\"1\" class=\"dataframe\">\n",
              "  <thead>\n",
              "    <tr style=\"text-align: right;\">\n",
              "      <th></th>\n",
              "      <th>Unnamed: 0</th>\n",
              "      <th>Sensor-1</th>\n",
              "      <th>Sensor-2</th>\n",
              "      <th>Sensor-3</th>\n",
              "      <th>Sensor-4</th>\n",
              "      <th>Sensor-5</th>\n",
              "      <th>Sensor-6</th>\n",
              "      <th>Sensor-7</th>\n",
              "      <th>Sensor-8</th>\n",
              "      <th>Sensor-9</th>\n",
              "      <th>...</th>\n",
              "      <th>Sensor-582</th>\n",
              "      <th>Sensor-583</th>\n",
              "      <th>Sensor-584</th>\n",
              "      <th>Sensor-585</th>\n",
              "      <th>Sensor-586</th>\n",
              "      <th>Sensor-587</th>\n",
              "      <th>Sensor-588</th>\n",
              "      <th>Sensor-589</th>\n",
              "      <th>Sensor-590</th>\n",
              "      <th>Good/Bad</th>\n",
              "    </tr>\n",
              "  </thead>\n",
              "  <tbody>\n",
              "    <tr>\n",
              "      <th>0</th>\n",
              "      <td>Wafer-801</td>\n",
              "      <td>2968.33</td>\n",
              "      <td>2476.58</td>\n",
              "      <td>2216.7333</td>\n",
              "      <td>1748.0885</td>\n",
              "      <td>1.1127</td>\n",
              "      <td>100.0</td>\n",
              "      <td>97.5822</td>\n",
              "      <td>0.1242</td>\n",
              "      <td>1.5300</td>\n",
              "      <td>...</td>\n",
              "      <td>NaN</td>\n",
              "      <td>0.5004</td>\n",
              "      <td>0.0120</td>\n",
              "      <td>0.0033</td>\n",
              "      <td>2.4069</td>\n",
              "      <td>0.0545</td>\n",
              "      <td>0.0184</td>\n",
              "      <td>0.0055</td>\n",
              "      <td>33.7876</td>\n",
              "      <td>-1</td>\n",
              "    </tr>\n",
              "    <tr>\n",
              "      <th>1</th>\n",
              "      <td>Wafer-802</td>\n",
              "      <td>2961.04</td>\n",
              "      <td>2506.43</td>\n",
              "      <td>2170.0666</td>\n",
              "      <td>1364.5157</td>\n",
              "      <td>1.5447</td>\n",
              "      <td>100.0</td>\n",
              "      <td>96.7700</td>\n",
              "      <td>0.1230</td>\n",
              "      <td>1.3953</td>\n",
              "      <td>...</td>\n",
              "      <td>NaN</td>\n",
              "      <td>0.4994</td>\n",
              "      <td>0.0115</td>\n",
              "      <td>0.0031</td>\n",
              "      <td>2.3020</td>\n",
              "      <td>0.0545</td>\n",
              "      <td>0.0184</td>\n",
              "      <td>0.0055</td>\n",
              "      <td>33.7876</td>\n",
              "      <td>1</td>\n",
              "    </tr>\n",
              "    <tr>\n",
              "      <th>2</th>\n",
              "      <td>Wafer-803</td>\n",
              "      <td>3072.03</td>\n",
              "      <td>2500.68</td>\n",
              "      <td>2205.7445</td>\n",
              "      <td>1363.1048</td>\n",
              "      <td>1.0518</td>\n",
              "      <td>100.0</td>\n",
              "      <td>101.8644</td>\n",
              "      <td>0.1220</td>\n",
              "      <td>1.3896</td>\n",
              "      <td>...</td>\n",
              "      <td>NaN</td>\n",
              "      <td>0.4987</td>\n",
              "      <td>0.0118</td>\n",
              "      <td>0.0036</td>\n",
              "      <td>2.3719</td>\n",
              "      <td>0.0545</td>\n",
              "      <td>0.0184</td>\n",
              "      <td>0.0055</td>\n",
              "      <td>33.7876</td>\n",
              "      <td>-1</td>\n",
              "    </tr>\n",
              "    <tr>\n",
              "      <th>3</th>\n",
              "      <td>Wafer-804</td>\n",
              "      <td>3021.83</td>\n",
              "      <td>2419.83</td>\n",
              "      <td>2205.7445</td>\n",
              "      <td>1363.1048</td>\n",
              "      <td>1.0518</td>\n",
              "      <td>100.0</td>\n",
              "      <td>101.8644</td>\n",
              "      <td>0.1220</td>\n",
              "      <td>1.4108</td>\n",
              "      <td>...</td>\n",
              "      <td>NaN</td>\n",
              "      <td>0.4934</td>\n",
              "      <td>0.0123</td>\n",
              "      <td>0.0040</td>\n",
              "      <td>2.4923</td>\n",
              "      <td>0.0545</td>\n",
              "      <td>0.0184</td>\n",
              "      <td>0.0055</td>\n",
              "      <td>33.7876</td>\n",
              "      <td>-1</td>\n",
              "    </tr>\n",
              "    <tr>\n",
              "      <th>4</th>\n",
              "      <td>Wafer-805</td>\n",
              "      <td>3006.95</td>\n",
              "      <td>2435.34</td>\n",
              "      <td>2189.8111</td>\n",
              "      <td>1084.6502</td>\n",
              "      <td>1.1993</td>\n",
              "      <td>100.0</td>\n",
              "      <td>104.8856</td>\n",
              "      <td>0.1234</td>\n",
              "      <td>1.5094</td>\n",
              "      <td>...</td>\n",
              "      <td>NaN</td>\n",
              "      <td>0.4987</td>\n",
              "      <td>0.0145</td>\n",
              "      <td>0.0041</td>\n",
              "      <td>2.8991</td>\n",
              "      <td>0.0545</td>\n",
              "      <td>0.0184</td>\n",
              "      <td>0.0055</td>\n",
              "      <td>33.7876</td>\n",
              "      <td>-1</td>\n",
              "    </tr>\n",
              "  </tbody>\n",
              "</table>\n",
              "<p>5 rows × 592 columns</p>\n",
              "</div>\n",
              "    <div class=\"colab-df-buttons\">\n",
              "\n",
              "  <div class=\"colab-df-container\">\n",
              "    <button class=\"colab-df-convert\" onclick=\"convertToInteractive('df-41b60191-f46c-45b8-a20b-3ca86b35f5bd')\"\n",
              "            title=\"Convert this dataframe to an interactive table.\"\n",
              "            style=\"display:none;\">\n",
              "\n",
              "  <svg xmlns=\"http://www.w3.org/2000/svg\" height=\"24px\" viewBox=\"0 -960 960 960\">\n",
              "    <path d=\"M120-120v-720h720v720H120Zm60-500h600v-160H180v160Zm220 220h160v-160H400v160Zm0 220h160v-160H400v160ZM180-400h160v-160H180v160Zm440 0h160v-160H620v160ZM180-180h160v-160H180v160Zm440 0h160v-160H620v160Z\"/>\n",
              "  </svg>\n",
              "    </button>\n",
              "\n",
              "  <style>\n",
              "    .colab-df-container {\n",
              "      display:flex;\n",
              "      gap: 12px;\n",
              "    }\n",
              "\n",
              "    .colab-df-convert {\n",
              "      background-color: #E8F0FE;\n",
              "      border: none;\n",
              "      border-radius: 50%;\n",
              "      cursor: pointer;\n",
              "      display: none;\n",
              "      fill: #1967D2;\n",
              "      height: 32px;\n",
              "      padding: 0 0 0 0;\n",
              "      width: 32px;\n",
              "    }\n",
              "\n",
              "    .colab-df-convert:hover {\n",
              "      background-color: #E2EBFA;\n",
              "      box-shadow: 0px 1px 2px rgba(60, 64, 67, 0.3), 0px 1px 3px 1px rgba(60, 64, 67, 0.15);\n",
              "      fill: #174EA6;\n",
              "    }\n",
              "\n",
              "    .colab-df-buttons div {\n",
              "      margin-bottom: 4px;\n",
              "    }\n",
              "\n",
              "    [theme=dark] .colab-df-convert {\n",
              "      background-color: #3B4455;\n",
              "      fill: #D2E3FC;\n",
              "    }\n",
              "\n",
              "    [theme=dark] .colab-df-convert:hover {\n",
              "      background-color: #434B5C;\n",
              "      box-shadow: 0px 1px 3px 1px rgba(0, 0, 0, 0.15);\n",
              "      filter: drop-shadow(0px 1px 2px rgba(0, 0, 0, 0.3));\n",
              "      fill: #FFFFFF;\n",
              "    }\n",
              "  </style>\n",
              "\n",
              "    <script>\n",
              "      const buttonEl =\n",
              "        document.querySelector('#df-41b60191-f46c-45b8-a20b-3ca86b35f5bd button.colab-df-convert');\n",
              "      buttonEl.style.display =\n",
              "        google.colab.kernel.accessAllowed ? 'block' : 'none';\n",
              "\n",
              "      async function convertToInteractive(key) {\n",
              "        const element = document.querySelector('#df-41b60191-f46c-45b8-a20b-3ca86b35f5bd');\n",
              "        const dataTable =\n",
              "          await google.colab.kernel.invokeFunction('convertToInteractive',\n",
              "                                                    [key], {});\n",
              "        if (!dataTable) return;\n",
              "\n",
              "        const docLinkHtml = 'Like what you see? Visit the ' +\n",
              "          '<a target=\"_blank\" href=https://colab.research.google.com/notebooks/data_table.ipynb>data table notebook</a>'\n",
              "          + ' to learn more about interactive tables.';\n",
              "        element.innerHTML = '';\n",
              "        dataTable['output_type'] = 'display_data';\n",
              "        await google.colab.output.renderOutput(dataTable, element);\n",
              "        const docLink = document.createElement('div');\n",
              "        docLink.innerHTML = docLinkHtml;\n",
              "        element.appendChild(docLink);\n",
              "      }\n",
              "    </script>\n",
              "  </div>\n",
              "\n",
              "\n",
              "<div id=\"df-22d56733-a354-4c2d-8a26-f6e95c604049\">\n",
              "  <button class=\"colab-df-quickchart\" onclick=\"quickchart('df-22d56733-a354-4c2d-8a26-f6e95c604049')\"\n",
              "            title=\"Suggest charts\"\n",
              "            style=\"display:none;\">\n",
              "\n",
              "<svg xmlns=\"http://www.w3.org/2000/svg\" height=\"24px\"viewBox=\"0 0 24 24\"\n",
              "     width=\"24px\">\n",
              "    <g>\n",
              "        <path d=\"M19 3H5c-1.1 0-2 .9-2 2v14c0 1.1.9 2 2 2h14c1.1 0 2-.9 2-2V5c0-1.1-.9-2-2-2zM9 17H7v-7h2v7zm4 0h-2V7h2v10zm4 0h-2v-4h2v4z\"/>\n",
              "    </g>\n",
              "</svg>\n",
              "  </button>\n",
              "\n",
              "<style>\n",
              "  .colab-df-quickchart {\n",
              "      --bg-color: #E8F0FE;\n",
              "      --fill-color: #1967D2;\n",
              "      --hover-bg-color: #E2EBFA;\n",
              "      --hover-fill-color: #174EA6;\n",
              "      --disabled-fill-color: #AAA;\n",
              "      --disabled-bg-color: #DDD;\n",
              "  }\n",
              "\n",
              "  [theme=dark] .colab-df-quickchart {\n",
              "      --bg-color: #3B4455;\n",
              "      --fill-color: #D2E3FC;\n",
              "      --hover-bg-color: #434B5C;\n",
              "      --hover-fill-color: #FFFFFF;\n",
              "      --disabled-bg-color: #3B4455;\n",
              "      --disabled-fill-color: #666;\n",
              "  }\n",
              "\n",
              "  .colab-df-quickchart {\n",
              "    background-color: var(--bg-color);\n",
              "    border: none;\n",
              "    border-radius: 50%;\n",
              "    cursor: pointer;\n",
              "    display: none;\n",
              "    fill: var(--fill-color);\n",
              "    height: 32px;\n",
              "    padding: 0;\n",
              "    width: 32px;\n",
              "  }\n",
              "\n",
              "  .colab-df-quickchart:hover {\n",
              "    background-color: var(--hover-bg-color);\n",
              "    box-shadow: 0 1px 2px rgba(60, 64, 67, 0.3), 0 1px 3px 1px rgba(60, 64, 67, 0.15);\n",
              "    fill: var(--button-hover-fill-color);\n",
              "  }\n",
              "\n",
              "  .colab-df-quickchart-complete:disabled,\n",
              "  .colab-df-quickchart-complete:disabled:hover {\n",
              "    background-color: var(--disabled-bg-color);\n",
              "    fill: var(--disabled-fill-color);\n",
              "    box-shadow: none;\n",
              "  }\n",
              "\n",
              "  .colab-df-spinner {\n",
              "    border: 2px solid var(--fill-color);\n",
              "    border-color: transparent;\n",
              "    border-bottom-color: var(--fill-color);\n",
              "    animation:\n",
              "      spin 1s steps(1) infinite;\n",
              "  }\n",
              "\n",
              "  @keyframes spin {\n",
              "    0% {\n",
              "      border-color: transparent;\n",
              "      border-bottom-color: var(--fill-color);\n",
              "      border-left-color: var(--fill-color);\n",
              "    }\n",
              "    20% {\n",
              "      border-color: transparent;\n",
              "      border-left-color: var(--fill-color);\n",
              "      border-top-color: var(--fill-color);\n",
              "    }\n",
              "    30% {\n",
              "      border-color: transparent;\n",
              "      border-left-color: var(--fill-color);\n",
              "      border-top-color: var(--fill-color);\n",
              "      border-right-color: var(--fill-color);\n",
              "    }\n",
              "    40% {\n",
              "      border-color: transparent;\n",
              "      border-right-color: var(--fill-color);\n",
              "      border-top-color: var(--fill-color);\n",
              "    }\n",
              "    60% {\n",
              "      border-color: transparent;\n",
              "      border-right-color: var(--fill-color);\n",
              "    }\n",
              "    80% {\n",
              "      border-color: transparent;\n",
              "      border-right-color: var(--fill-color);\n",
              "      border-bottom-color: var(--fill-color);\n",
              "    }\n",
              "    90% {\n",
              "      border-color: transparent;\n",
              "      border-bottom-color: var(--fill-color);\n",
              "    }\n",
              "  }\n",
              "</style>\n",
              "\n",
              "  <script>\n",
              "    async function quickchart(key) {\n",
              "      const quickchartButtonEl =\n",
              "        document.querySelector('#' + key + ' button');\n",
              "      quickchartButtonEl.disabled = true;  // To prevent multiple clicks.\n",
              "      quickchartButtonEl.classList.add('colab-df-spinner');\n",
              "      try {\n",
              "        const charts = await google.colab.kernel.invokeFunction(\n",
              "            'suggestCharts', [key], {});\n",
              "      } catch (error) {\n",
              "        console.error('Error during call to suggestCharts:', error);\n",
              "      }\n",
              "      quickchartButtonEl.classList.remove('colab-df-spinner');\n",
              "      quickchartButtonEl.classList.add('colab-df-quickchart-complete');\n",
              "    }\n",
              "    (() => {\n",
              "      let quickchartButtonEl =\n",
              "        document.querySelector('#df-22d56733-a354-4c2d-8a26-f6e95c604049 button');\n",
              "      quickchartButtonEl.style.display =\n",
              "        google.colab.kernel.accessAllowed ? 'block' : 'none';\n",
              "    })();\n",
              "  </script>\n",
              "</div>\n",
              "\n",
              "    </div>\n",
              "  </div>\n"
            ],
            "application/vnd.google.colaboratory.intrinsic+json": {
              "type": "dataframe",
              "variable_name": "wafers"
            }
          },
          "metadata": {},
          "execution_count": 3
        }
      ]
    },
    {
      "cell_type": "code",
      "source": [
        "wafers.isnull()"
      ],
      "metadata": {
        "colab": {
          "base_uri": "https://localhost:8080/",
          "height": 460
        },
        "id": "W6OKftG0UY8_",
        "outputId": "dc64ec44-efe0-4d65-fdfe-5eb75af6ea28"
      },
      "execution_count": 4,
      "outputs": [
        {
          "output_type": "execute_result",
          "data": {
            "text/plain": [
              "    Unnamed: 0  Sensor-1  Sensor-2  Sensor-3  Sensor-4  Sensor-5  Sensor-6  \\\n",
              "0        False     False     False     False     False     False     False   \n",
              "1        False     False     False     False     False     False     False   \n",
              "2        False     False     False     False     False     False     False   \n",
              "3        False     False     False     False     False     False     False   \n",
              "4        False     False     False     False     False     False     False   \n",
              "..         ...       ...       ...       ...       ...       ...       ...   \n",
              "95       False     False     False     False     False     False     False   \n",
              "96       False     False     False     False     False     False     False   \n",
              "97       False     False     False     False     False     False     False   \n",
              "98       False     False     False      True      True      True      True   \n",
              "99       False     False     False     False     False     False     False   \n",
              "\n",
              "    Sensor-7  Sensor-8  Sensor-9  ...  Sensor-582  Sensor-583  Sensor-584  \\\n",
              "0      False     False     False  ...        True       False       False   \n",
              "1      False     False     False  ...        True       False       False   \n",
              "2      False     False     False  ...        True       False       False   \n",
              "3      False     False     False  ...        True       False       False   \n",
              "4      False     False     False  ...        True       False       False   \n",
              "..       ...       ...       ...  ...         ...         ...         ...   \n",
              "95     False     False     False  ...        True       False       False   \n",
              "96     False     False     False  ...        True       False       False   \n",
              "97     False     False     False  ...        True       False       False   \n",
              "98      True      True     False  ...        True       False       False   \n",
              "99     False     False     False  ...        True       False       False   \n",
              "\n",
              "    Sensor-585  Sensor-586  Sensor-587  Sensor-588  Sensor-589  Sensor-590  \\\n",
              "0        False       False       False       False       False       False   \n",
              "1        False       False       False       False       False       False   \n",
              "2        False       False       False       False       False       False   \n",
              "3        False       False       False       False       False       False   \n",
              "4        False       False       False       False       False       False   \n",
              "..         ...         ...         ...         ...         ...         ...   \n",
              "95       False       False       False       False       False       False   \n",
              "96       False       False       False       False       False       False   \n",
              "97       False       False       False       False       False       False   \n",
              "98       False       False       False       False       False       False   \n",
              "99       False       False       False       False       False       False   \n",
              "\n",
              "    Good/Bad  \n",
              "0      False  \n",
              "1      False  \n",
              "2      False  \n",
              "3      False  \n",
              "4      False  \n",
              "..       ...  \n",
              "95     False  \n",
              "96     False  \n",
              "97     False  \n",
              "98     False  \n",
              "99     False  \n",
              "\n",
              "[100 rows x 592 columns]"
            ],
            "text/html": [
              "\n",
              "  <div id=\"df-44ee4943-f056-414e-b259-81aee2f89040\" class=\"colab-df-container\">\n",
              "    <div>\n",
              "<style scoped>\n",
              "    .dataframe tbody tr th:only-of-type {\n",
              "        vertical-align: middle;\n",
              "    }\n",
              "\n",
              "    .dataframe tbody tr th {\n",
              "        vertical-align: top;\n",
              "    }\n",
              "\n",
              "    .dataframe thead th {\n",
              "        text-align: right;\n",
              "    }\n",
              "</style>\n",
              "<table border=\"1\" class=\"dataframe\">\n",
              "  <thead>\n",
              "    <tr style=\"text-align: right;\">\n",
              "      <th></th>\n",
              "      <th>Unnamed: 0</th>\n",
              "      <th>Sensor-1</th>\n",
              "      <th>Sensor-2</th>\n",
              "      <th>Sensor-3</th>\n",
              "      <th>Sensor-4</th>\n",
              "      <th>Sensor-5</th>\n",
              "      <th>Sensor-6</th>\n",
              "      <th>Sensor-7</th>\n",
              "      <th>Sensor-8</th>\n",
              "      <th>Sensor-9</th>\n",
              "      <th>...</th>\n",
              "      <th>Sensor-582</th>\n",
              "      <th>Sensor-583</th>\n",
              "      <th>Sensor-584</th>\n",
              "      <th>Sensor-585</th>\n",
              "      <th>Sensor-586</th>\n",
              "      <th>Sensor-587</th>\n",
              "      <th>Sensor-588</th>\n",
              "      <th>Sensor-589</th>\n",
              "      <th>Sensor-590</th>\n",
              "      <th>Good/Bad</th>\n",
              "    </tr>\n",
              "  </thead>\n",
              "  <tbody>\n",
              "    <tr>\n",
              "      <th>0</th>\n",
              "      <td>False</td>\n",
              "      <td>False</td>\n",
              "      <td>False</td>\n",
              "      <td>False</td>\n",
              "      <td>False</td>\n",
              "      <td>False</td>\n",
              "      <td>False</td>\n",
              "      <td>False</td>\n",
              "      <td>False</td>\n",
              "      <td>False</td>\n",
              "      <td>...</td>\n",
              "      <td>True</td>\n",
              "      <td>False</td>\n",
              "      <td>False</td>\n",
              "      <td>False</td>\n",
              "      <td>False</td>\n",
              "      <td>False</td>\n",
              "      <td>False</td>\n",
              "      <td>False</td>\n",
              "      <td>False</td>\n",
              "      <td>False</td>\n",
              "    </tr>\n",
              "    <tr>\n",
              "      <th>1</th>\n",
              "      <td>False</td>\n",
              "      <td>False</td>\n",
              "      <td>False</td>\n",
              "      <td>False</td>\n",
              "      <td>False</td>\n",
              "      <td>False</td>\n",
              "      <td>False</td>\n",
              "      <td>False</td>\n",
              "      <td>False</td>\n",
              "      <td>False</td>\n",
              "      <td>...</td>\n",
              "      <td>True</td>\n",
              "      <td>False</td>\n",
              "      <td>False</td>\n",
              "      <td>False</td>\n",
              "      <td>False</td>\n",
              "      <td>False</td>\n",
              "      <td>False</td>\n",
              "      <td>False</td>\n",
              "      <td>False</td>\n",
              "      <td>False</td>\n",
              "    </tr>\n",
              "    <tr>\n",
              "      <th>2</th>\n",
              "      <td>False</td>\n",
              "      <td>False</td>\n",
              "      <td>False</td>\n",
              "      <td>False</td>\n",
              "      <td>False</td>\n",
              "      <td>False</td>\n",
              "      <td>False</td>\n",
              "      <td>False</td>\n",
              "      <td>False</td>\n",
              "      <td>False</td>\n",
              "      <td>...</td>\n",
              "      <td>True</td>\n",
              "      <td>False</td>\n",
              "      <td>False</td>\n",
              "      <td>False</td>\n",
              "      <td>False</td>\n",
              "      <td>False</td>\n",
              "      <td>False</td>\n",
              "      <td>False</td>\n",
              "      <td>False</td>\n",
              "      <td>False</td>\n",
              "    </tr>\n",
              "    <tr>\n",
              "      <th>3</th>\n",
              "      <td>False</td>\n",
              "      <td>False</td>\n",
              "      <td>False</td>\n",
              "      <td>False</td>\n",
              "      <td>False</td>\n",
              "      <td>False</td>\n",
              "      <td>False</td>\n",
              "      <td>False</td>\n",
              "      <td>False</td>\n",
              "      <td>False</td>\n",
              "      <td>...</td>\n",
              "      <td>True</td>\n",
              "      <td>False</td>\n",
              "      <td>False</td>\n",
              "      <td>False</td>\n",
              "      <td>False</td>\n",
              "      <td>False</td>\n",
              "      <td>False</td>\n",
              "      <td>False</td>\n",
              "      <td>False</td>\n",
              "      <td>False</td>\n",
              "    </tr>\n",
              "    <tr>\n",
              "      <th>4</th>\n",
              "      <td>False</td>\n",
              "      <td>False</td>\n",
              "      <td>False</td>\n",
              "      <td>False</td>\n",
              "      <td>False</td>\n",
              "      <td>False</td>\n",
              "      <td>False</td>\n",
              "      <td>False</td>\n",
              "      <td>False</td>\n",
              "      <td>False</td>\n",
              "      <td>...</td>\n",
              "      <td>True</td>\n",
              "      <td>False</td>\n",
              "      <td>False</td>\n",
              "      <td>False</td>\n",
              "      <td>False</td>\n",
              "      <td>False</td>\n",
              "      <td>False</td>\n",
              "      <td>False</td>\n",
              "      <td>False</td>\n",
              "      <td>False</td>\n",
              "    </tr>\n",
              "    <tr>\n",
              "      <th>...</th>\n",
              "      <td>...</td>\n",
              "      <td>...</td>\n",
              "      <td>...</td>\n",
              "      <td>...</td>\n",
              "      <td>...</td>\n",
              "      <td>...</td>\n",
              "      <td>...</td>\n",
              "      <td>...</td>\n",
              "      <td>...</td>\n",
              "      <td>...</td>\n",
              "      <td>...</td>\n",
              "      <td>...</td>\n",
              "      <td>...</td>\n",
              "      <td>...</td>\n",
              "      <td>...</td>\n",
              "      <td>...</td>\n",
              "      <td>...</td>\n",
              "      <td>...</td>\n",
              "      <td>...</td>\n",
              "      <td>...</td>\n",
              "      <td>...</td>\n",
              "    </tr>\n",
              "    <tr>\n",
              "      <th>95</th>\n",
              "      <td>False</td>\n",
              "      <td>False</td>\n",
              "      <td>False</td>\n",
              "      <td>False</td>\n",
              "      <td>False</td>\n",
              "      <td>False</td>\n",
              "      <td>False</td>\n",
              "      <td>False</td>\n",
              "      <td>False</td>\n",
              "      <td>False</td>\n",
              "      <td>...</td>\n",
              "      <td>True</td>\n",
              "      <td>False</td>\n",
              "      <td>False</td>\n",
              "      <td>False</td>\n",
              "      <td>False</td>\n",
              "      <td>False</td>\n",
              "      <td>False</td>\n",
              "      <td>False</td>\n",
              "      <td>False</td>\n",
              "      <td>False</td>\n",
              "    </tr>\n",
              "    <tr>\n",
              "      <th>96</th>\n",
              "      <td>False</td>\n",
              "      <td>False</td>\n",
              "      <td>False</td>\n",
              "      <td>False</td>\n",
              "      <td>False</td>\n",
              "      <td>False</td>\n",
              "      <td>False</td>\n",
              "      <td>False</td>\n",
              "      <td>False</td>\n",
              "      <td>False</td>\n",
              "      <td>...</td>\n",
              "      <td>True</td>\n",
              "      <td>False</td>\n",
              "      <td>False</td>\n",
              "      <td>False</td>\n",
              "      <td>False</td>\n",
              "      <td>False</td>\n",
              "      <td>False</td>\n",
              "      <td>False</td>\n",
              "      <td>False</td>\n",
              "      <td>False</td>\n",
              "    </tr>\n",
              "    <tr>\n",
              "      <th>97</th>\n",
              "      <td>False</td>\n",
              "      <td>False</td>\n",
              "      <td>False</td>\n",
              "      <td>False</td>\n",
              "      <td>False</td>\n",
              "      <td>False</td>\n",
              "      <td>False</td>\n",
              "      <td>False</td>\n",
              "      <td>False</td>\n",
              "      <td>False</td>\n",
              "      <td>...</td>\n",
              "      <td>True</td>\n",
              "      <td>False</td>\n",
              "      <td>False</td>\n",
              "      <td>False</td>\n",
              "      <td>False</td>\n",
              "      <td>False</td>\n",
              "      <td>False</td>\n",
              "      <td>False</td>\n",
              "      <td>False</td>\n",
              "      <td>False</td>\n",
              "    </tr>\n",
              "    <tr>\n",
              "      <th>98</th>\n",
              "      <td>False</td>\n",
              "      <td>False</td>\n",
              "      <td>False</td>\n",
              "      <td>True</td>\n",
              "      <td>True</td>\n",
              "      <td>True</td>\n",
              "      <td>True</td>\n",
              "      <td>True</td>\n",
              "      <td>True</td>\n",
              "      <td>False</td>\n",
              "      <td>...</td>\n",
              "      <td>True</td>\n",
              "      <td>False</td>\n",
              "      <td>False</td>\n",
              "      <td>False</td>\n",
              "      <td>False</td>\n",
              "      <td>False</td>\n",
              "      <td>False</td>\n",
              "      <td>False</td>\n",
              "      <td>False</td>\n",
              "      <td>False</td>\n",
              "    </tr>\n",
              "    <tr>\n",
              "      <th>99</th>\n",
              "      <td>False</td>\n",
              "      <td>False</td>\n",
              "      <td>False</td>\n",
              "      <td>False</td>\n",
              "      <td>False</td>\n",
              "      <td>False</td>\n",
              "      <td>False</td>\n",
              "      <td>False</td>\n",
              "      <td>False</td>\n",
              "      <td>False</td>\n",
              "      <td>...</td>\n",
              "      <td>True</td>\n",
              "      <td>False</td>\n",
              "      <td>False</td>\n",
              "      <td>False</td>\n",
              "      <td>False</td>\n",
              "      <td>False</td>\n",
              "      <td>False</td>\n",
              "      <td>False</td>\n",
              "      <td>False</td>\n",
              "      <td>False</td>\n",
              "    </tr>\n",
              "  </tbody>\n",
              "</table>\n",
              "<p>100 rows × 592 columns</p>\n",
              "</div>\n",
              "    <div class=\"colab-df-buttons\">\n",
              "\n",
              "  <div class=\"colab-df-container\">\n",
              "    <button class=\"colab-df-convert\" onclick=\"convertToInteractive('df-44ee4943-f056-414e-b259-81aee2f89040')\"\n",
              "            title=\"Convert this dataframe to an interactive table.\"\n",
              "            style=\"display:none;\">\n",
              "\n",
              "  <svg xmlns=\"http://www.w3.org/2000/svg\" height=\"24px\" viewBox=\"0 -960 960 960\">\n",
              "    <path d=\"M120-120v-720h720v720H120Zm60-500h600v-160H180v160Zm220 220h160v-160H400v160Zm0 220h160v-160H400v160ZM180-400h160v-160H180v160Zm440 0h160v-160H620v160ZM180-180h160v-160H180v160Zm440 0h160v-160H620v160Z\"/>\n",
              "  </svg>\n",
              "    </button>\n",
              "\n",
              "  <style>\n",
              "    .colab-df-container {\n",
              "      display:flex;\n",
              "      gap: 12px;\n",
              "    }\n",
              "\n",
              "    .colab-df-convert {\n",
              "      background-color: #E8F0FE;\n",
              "      border: none;\n",
              "      border-radius: 50%;\n",
              "      cursor: pointer;\n",
              "      display: none;\n",
              "      fill: #1967D2;\n",
              "      height: 32px;\n",
              "      padding: 0 0 0 0;\n",
              "      width: 32px;\n",
              "    }\n",
              "\n",
              "    .colab-df-convert:hover {\n",
              "      background-color: #E2EBFA;\n",
              "      box-shadow: 0px 1px 2px rgba(60, 64, 67, 0.3), 0px 1px 3px 1px rgba(60, 64, 67, 0.15);\n",
              "      fill: #174EA6;\n",
              "    }\n",
              "\n",
              "    .colab-df-buttons div {\n",
              "      margin-bottom: 4px;\n",
              "    }\n",
              "\n",
              "    [theme=dark] .colab-df-convert {\n",
              "      background-color: #3B4455;\n",
              "      fill: #D2E3FC;\n",
              "    }\n",
              "\n",
              "    [theme=dark] .colab-df-convert:hover {\n",
              "      background-color: #434B5C;\n",
              "      box-shadow: 0px 1px 3px 1px rgba(0, 0, 0, 0.15);\n",
              "      filter: drop-shadow(0px 1px 2px rgba(0, 0, 0, 0.3));\n",
              "      fill: #FFFFFF;\n",
              "    }\n",
              "  </style>\n",
              "\n",
              "    <script>\n",
              "      const buttonEl =\n",
              "        document.querySelector('#df-44ee4943-f056-414e-b259-81aee2f89040 button.colab-df-convert');\n",
              "      buttonEl.style.display =\n",
              "        google.colab.kernel.accessAllowed ? 'block' : 'none';\n",
              "\n",
              "      async function convertToInteractive(key) {\n",
              "        const element = document.querySelector('#df-44ee4943-f056-414e-b259-81aee2f89040');\n",
              "        const dataTable =\n",
              "          await google.colab.kernel.invokeFunction('convertToInteractive',\n",
              "                                                    [key], {});\n",
              "        if (!dataTable) return;\n",
              "\n",
              "        const docLinkHtml = 'Like what you see? Visit the ' +\n",
              "          '<a target=\"_blank\" href=https://colab.research.google.com/notebooks/data_table.ipynb>data table notebook</a>'\n",
              "          + ' to learn more about interactive tables.';\n",
              "        element.innerHTML = '';\n",
              "        dataTable['output_type'] = 'display_data';\n",
              "        await google.colab.output.renderOutput(dataTable, element);\n",
              "        const docLink = document.createElement('div');\n",
              "        docLink.innerHTML = docLinkHtml;\n",
              "        element.appendChild(docLink);\n",
              "      }\n",
              "    </script>\n",
              "  </div>\n",
              "\n",
              "\n",
              "<div id=\"df-c75852c5-fdf6-4c9c-888b-b18620ee06f9\">\n",
              "  <button class=\"colab-df-quickchart\" onclick=\"quickchart('df-c75852c5-fdf6-4c9c-888b-b18620ee06f9')\"\n",
              "            title=\"Suggest charts\"\n",
              "            style=\"display:none;\">\n",
              "\n",
              "<svg xmlns=\"http://www.w3.org/2000/svg\" height=\"24px\"viewBox=\"0 0 24 24\"\n",
              "     width=\"24px\">\n",
              "    <g>\n",
              "        <path d=\"M19 3H5c-1.1 0-2 .9-2 2v14c0 1.1.9 2 2 2h14c1.1 0 2-.9 2-2V5c0-1.1-.9-2-2-2zM9 17H7v-7h2v7zm4 0h-2V7h2v10zm4 0h-2v-4h2v4z\"/>\n",
              "    </g>\n",
              "</svg>\n",
              "  </button>\n",
              "\n",
              "<style>\n",
              "  .colab-df-quickchart {\n",
              "      --bg-color: #E8F0FE;\n",
              "      --fill-color: #1967D2;\n",
              "      --hover-bg-color: #E2EBFA;\n",
              "      --hover-fill-color: #174EA6;\n",
              "      --disabled-fill-color: #AAA;\n",
              "      --disabled-bg-color: #DDD;\n",
              "  }\n",
              "\n",
              "  [theme=dark] .colab-df-quickchart {\n",
              "      --bg-color: #3B4455;\n",
              "      --fill-color: #D2E3FC;\n",
              "      --hover-bg-color: #434B5C;\n",
              "      --hover-fill-color: #FFFFFF;\n",
              "      --disabled-bg-color: #3B4455;\n",
              "      --disabled-fill-color: #666;\n",
              "  }\n",
              "\n",
              "  .colab-df-quickchart {\n",
              "    background-color: var(--bg-color);\n",
              "    border: none;\n",
              "    border-radius: 50%;\n",
              "    cursor: pointer;\n",
              "    display: none;\n",
              "    fill: var(--fill-color);\n",
              "    height: 32px;\n",
              "    padding: 0;\n",
              "    width: 32px;\n",
              "  }\n",
              "\n",
              "  .colab-df-quickchart:hover {\n",
              "    background-color: var(--hover-bg-color);\n",
              "    box-shadow: 0 1px 2px rgba(60, 64, 67, 0.3), 0 1px 3px 1px rgba(60, 64, 67, 0.15);\n",
              "    fill: var(--button-hover-fill-color);\n",
              "  }\n",
              "\n",
              "  .colab-df-quickchart-complete:disabled,\n",
              "  .colab-df-quickchart-complete:disabled:hover {\n",
              "    background-color: var(--disabled-bg-color);\n",
              "    fill: var(--disabled-fill-color);\n",
              "    box-shadow: none;\n",
              "  }\n",
              "\n",
              "  .colab-df-spinner {\n",
              "    border: 2px solid var(--fill-color);\n",
              "    border-color: transparent;\n",
              "    border-bottom-color: var(--fill-color);\n",
              "    animation:\n",
              "      spin 1s steps(1) infinite;\n",
              "  }\n",
              "\n",
              "  @keyframes spin {\n",
              "    0% {\n",
              "      border-color: transparent;\n",
              "      border-bottom-color: var(--fill-color);\n",
              "      border-left-color: var(--fill-color);\n",
              "    }\n",
              "    20% {\n",
              "      border-color: transparent;\n",
              "      border-left-color: var(--fill-color);\n",
              "      border-top-color: var(--fill-color);\n",
              "    }\n",
              "    30% {\n",
              "      border-color: transparent;\n",
              "      border-left-color: var(--fill-color);\n",
              "      border-top-color: var(--fill-color);\n",
              "      border-right-color: var(--fill-color);\n",
              "    }\n",
              "    40% {\n",
              "      border-color: transparent;\n",
              "      border-right-color: var(--fill-color);\n",
              "      border-top-color: var(--fill-color);\n",
              "    }\n",
              "    60% {\n",
              "      border-color: transparent;\n",
              "      border-right-color: var(--fill-color);\n",
              "    }\n",
              "    80% {\n",
              "      border-color: transparent;\n",
              "      border-right-color: var(--fill-color);\n",
              "      border-bottom-color: var(--fill-color);\n",
              "    }\n",
              "    90% {\n",
              "      border-color: transparent;\n",
              "      border-bottom-color: var(--fill-color);\n",
              "    }\n",
              "  }\n",
              "</style>\n",
              "\n",
              "  <script>\n",
              "    async function quickchart(key) {\n",
              "      const quickchartButtonEl =\n",
              "        document.querySelector('#' + key + ' button');\n",
              "      quickchartButtonEl.disabled = true;  // To prevent multiple clicks.\n",
              "      quickchartButtonEl.classList.add('colab-df-spinner');\n",
              "      try {\n",
              "        const charts = await google.colab.kernel.invokeFunction(\n",
              "            'suggestCharts', [key], {});\n",
              "      } catch (error) {\n",
              "        console.error('Error during call to suggestCharts:', error);\n",
              "      }\n",
              "      quickchartButtonEl.classList.remove('colab-df-spinner');\n",
              "      quickchartButtonEl.classList.add('colab-df-quickchart-complete');\n",
              "    }\n",
              "    (() => {\n",
              "      let quickchartButtonEl =\n",
              "        document.querySelector('#df-c75852c5-fdf6-4c9c-888b-b18620ee06f9 button');\n",
              "      quickchartButtonEl.style.display =\n",
              "        google.colab.kernel.accessAllowed ? 'block' : 'none';\n",
              "    })();\n",
              "  </script>\n",
              "</div>\n",
              "\n",
              "    </div>\n",
              "  </div>\n"
            ],
            "application/vnd.google.colaboratory.intrinsic+json": {
              "type": "dataframe"
            }
          },
          "metadata": {},
          "execution_count": 4
        }
      ]
    },
    {
      "cell_type": "code",
      "source": [
        "wafers.columns"
      ],
      "metadata": {
        "id": "og7IDeI6Uk3O",
        "colab": {
          "base_uri": "https://localhost:8080/"
        },
        "outputId": "f8cc6d3f-22b6-4bb0-a93f-97a3a2e3a656"
      },
      "execution_count": 5,
      "outputs": [
        {
          "output_type": "execute_result",
          "data": {
            "text/plain": [
              "Index(['Unnamed: 0', 'Sensor-1', 'Sensor-2', 'Sensor-3', 'Sensor-4',\n",
              "       'Sensor-5', 'Sensor-6', 'Sensor-7', 'Sensor-8', 'Sensor-9',\n",
              "       ...\n",
              "       'Sensor-582', 'Sensor-583', 'Sensor-584', 'Sensor-585', 'Sensor-586',\n",
              "       'Sensor-587', 'Sensor-588', 'Sensor-589', 'Sensor-590', 'Good/Bad'],\n",
              "      dtype='object', length=592)"
            ]
          },
          "metadata": {},
          "execution_count": 5
        }
      ]
    },
    {
      "cell_type": "code",
      "source": [
        "wafers.drop(columns=[\"Unnamed: 0\",\"Good/Bad\" ]).iloc[:100].to_csv(\"test.csv, index=False\")"
      ],
      "metadata": {
        "id": "NsoVQPswa0Jy"
      },
      "execution_count": 6,
      "outputs": []
    },
    {
      "cell_type": "code",
      "source": [
        "wafers.rename(columns={\"Unnamed: 0\": \"wafer\"}, inplace=True)"
      ],
      "metadata": {
        "id": "T_vP41Zwcu3V"
      },
      "execution_count": 7,
      "outputs": []
    },
    {
      "cell_type": "code",
      "source": [
        "wafers"
      ],
      "metadata": {
        "colab": {
          "base_uri": "https://localhost:8080/",
          "height": 634
        },
        "id": "H6x_KbrsdMlk",
        "outputId": "67d9493d-2496-4ced-a1ec-85212d774819"
      },
      "execution_count": 8,
      "outputs": [
        {
          "output_type": "execute_result",
          "data": {
            "text/plain": [
              "        wafer  Sensor-1  Sensor-2   Sensor-3   Sensor-4  Sensor-5  Sensor-6  \\\n",
              "0   Wafer-801   2968.33   2476.58  2216.7333  1748.0885    1.1127     100.0   \n",
              "1   Wafer-802   2961.04   2506.43  2170.0666  1364.5157    1.5447     100.0   \n",
              "2   Wafer-803   3072.03   2500.68  2205.7445  1363.1048    1.0518     100.0   \n",
              "3   Wafer-804   3021.83   2419.83  2205.7445  1363.1048    1.0518     100.0   \n",
              "4   Wafer-805   3006.95   2435.34  2189.8111  1084.6502    1.1993     100.0   \n",
              "..        ...       ...       ...        ...        ...       ...       ...   \n",
              "95  Wafer-896   3013.66   2526.44  2185.2111  1141.6306    0.8447     100.0   \n",
              "96  Wafer-897   2982.87   2477.01  2315.2667  2360.1325    1.1259     100.0   \n",
              "97  Wafer-898   3084.82   2387.42  2171.5000  1028.4440    0.7899     100.0   \n",
              "98  Wafer-899   2955.87   2541.89        NaN        NaN       NaN       NaN   \n",
              "99  Wafer-900   2914.86   2465.11  2210.2778  2120.5760    1.0700     100.0   \n",
              "\n",
              "    Sensor-7  Sensor-8  Sensor-9  ...  Sensor-582  Sensor-583  Sensor-584  \\\n",
              "0    97.5822    0.1242    1.5300  ...         NaN      0.5004      0.0120   \n",
              "1    96.7700    0.1230    1.3953  ...         NaN      0.4994      0.0115   \n",
              "2   101.8644    0.1220    1.3896  ...         NaN      0.4987      0.0118   \n",
              "3   101.8644    0.1220    1.4108  ...         NaN      0.4934      0.0123   \n",
              "4   104.8856    0.1234    1.5094  ...         NaN      0.4987      0.0145   \n",
              "..       ...       ...       ...  ...         ...         ...         ...   \n",
              "95  100.5978    0.1217    1.5337  ...         NaN      0.5013      0.0076   \n",
              "96   90.1144    0.1160    1.4695  ...         NaN      0.5003      0.0106   \n",
              "97  101.5122    0.1224    1.3603  ...         NaN      0.5016      0.0130   \n",
              "98       NaN       NaN    1.4493  ...         NaN      0.5023      0.0140   \n",
              "99   95.1089    0.1230    1.5817  ...         NaN      0.5026      0.0121   \n",
              "\n",
              "    Sensor-585  Sensor-586  Sensor-587  Sensor-588  Sensor-589  Sensor-590  \\\n",
              "0       0.0033      2.4069      0.0545      0.0184      0.0055     33.7876   \n",
              "1       0.0031      2.3020      0.0545      0.0184      0.0055     33.7876   \n",
              "2       0.0036      2.3719      0.0545      0.0184      0.0055     33.7876   \n",
              "3       0.0040      2.4923      0.0545      0.0184      0.0055     33.7876   \n",
              "4       0.0041      2.8991      0.0545      0.0184      0.0055     33.7876   \n",
              "..         ...         ...         ...         ...         ...         ...   \n",
              "95      0.0021      1.5152      0.0153      0.0048      0.0017     31.0176   \n",
              "96      0.0028      2.1263      0.0153      0.0048      0.0017     31.0176   \n",
              "97      0.0028      2.5865      0.0153      0.0048      0.0017     31.0176   \n",
              "98      0.0033      2.7810      0.0153      0.0048      0.0017     31.0176   \n",
              "99      0.0032      2.4064      0.0153      0.0048      0.0017     31.0176   \n",
              "\n",
              "    Good/Bad  \n",
              "0         -1  \n",
              "1          1  \n",
              "2         -1  \n",
              "3         -1  \n",
              "4         -1  \n",
              "..       ...  \n",
              "95        -1  \n",
              "96         1  \n",
              "97        -1  \n",
              "98        -1  \n",
              "99         1  \n",
              "\n",
              "[100 rows x 592 columns]"
            ],
            "text/html": [
              "\n",
              "  <div id=\"df-9e684652-1372-464f-b8ec-81a4710a56cc\" class=\"colab-df-container\">\n",
              "    <div>\n",
              "<style scoped>\n",
              "    .dataframe tbody tr th:only-of-type {\n",
              "        vertical-align: middle;\n",
              "    }\n",
              "\n",
              "    .dataframe tbody tr th {\n",
              "        vertical-align: top;\n",
              "    }\n",
              "\n",
              "    .dataframe thead th {\n",
              "        text-align: right;\n",
              "    }\n",
              "</style>\n",
              "<table border=\"1\" class=\"dataframe\">\n",
              "  <thead>\n",
              "    <tr style=\"text-align: right;\">\n",
              "      <th></th>\n",
              "      <th>wafer</th>\n",
              "      <th>Sensor-1</th>\n",
              "      <th>Sensor-2</th>\n",
              "      <th>Sensor-3</th>\n",
              "      <th>Sensor-4</th>\n",
              "      <th>Sensor-5</th>\n",
              "      <th>Sensor-6</th>\n",
              "      <th>Sensor-7</th>\n",
              "      <th>Sensor-8</th>\n",
              "      <th>Sensor-9</th>\n",
              "      <th>...</th>\n",
              "      <th>Sensor-582</th>\n",
              "      <th>Sensor-583</th>\n",
              "      <th>Sensor-584</th>\n",
              "      <th>Sensor-585</th>\n",
              "      <th>Sensor-586</th>\n",
              "      <th>Sensor-587</th>\n",
              "      <th>Sensor-588</th>\n",
              "      <th>Sensor-589</th>\n",
              "      <th>Sensor-590</th>\n",
              "      <th>Good/Bad</th>\n",
              "    </tr>\n",
              "  </thead>\n",
              "  <tbody>\n",
              "    <tr>\n",
              "      <th>0</th>\n",
              "      <td>Wafer-801</td>\n",
              "      <td>2968.33</td>\n",
              "      <td>2476.58</td>\n",
              "      <td>2216.7333</td>\n",
              "      <td>1748.0885</td>\n",
              "      <td>1.1127</td>\n",
              "      <td>100.0</td>\n",
              "      <td>97.5822</td>\n",
              "      <td>0.1242</td>\n",
              "      <td>1.5300</td>\n",
              "      <td>...</td>\n",
              "      <td>NaN</td>\n",
              "      <td>0.5004</td>\n",
              "      <td>0.0120</td>\n",
              "      <td>0.0033</td>\n",
              "      <td>2.4069</td>\n",
              "      <td>0.0545</td>\n",
              "      <td>0.0184</td>\n",
              "      <td>0.0055</td>\n",
              "      <td>33.7876</td>\n",
              "      <td>-1</td>\n",
              "    </tr>\n",
              "    <tr>\n",
              "      <th>1</th>\n",
              "      <td>Wafer-802</td>\n",
              "      <td>2961.04</td>\n",
              "      <td>2506.43</td>\n",
              "      <td>2170.0666</td>\n",
              "      <td>1364.5157</td>\n",
              "      <td>1.5447</td>\n",
              "      <td>100.0</td>\n",
              "      <td>96.7700</td>\n",
              "      <td>0.1230</td>\n",
              "      <td>1.3953</td>\n",
              "      <td>...</td>\n",
              "      <td>NaN</td>\n",
              "      <td>0.4994</td>\n",
              "      <td>0.0115</td>\n",
              "      <td>0.0031</td>\n",
              "      <td>2.3020</td>\n",
              "      <td>0.0545</td>\n",
              "      <td>0.0184</td>\n",
              "      <td>0.0055</td>\n",
              "      <td>33.7876</td>\n",
              "      <td>1</td>\n",
              "    </tr>\n",
              "    <tr>\n",
              "      <th>2</th>\n",
              "      <td>Wafer-803</td>\n",
              "      <td>3072.03</td>\n",
              "      <td>2500.68</td>\n",
              "      <td>2205.7445</td>\n",
              "      <td>1363.1048</td>\n",
              "      <td>1.0518</td>\n",
              "      <td>100.0</td>\n",
              "      <td>101.8644</td>\n",
              "      <td>0.1220</td>\n",
              "      <td>1.3896</td>\n",
              "      <td>...</td>\n",
              "      <td>NaN</td>\n",
              "      <td>0.4987</td>\n",
              "      <td>0.0118</td>\n",
              "      <td>0.0036</td>\n",
              "      <td>2.3719</td>\n",
              "      <td>0.0545</td>\n",
              "      <td>0.0184</td>\n",
              "      <td>0.0055</td>\n",
              "      <td>33.7876</td>\n",
              "      <td>-1</td>\n",
              "    </tr>\n",
              "    <tr>\n",
              "      <th>3</th>\n",
              "      <td>Wafer-804</td>\n",
              "      <td>3021.83</td>\n",
              "      <td>2419.83</td>\n",
              "      <td>2205.7445</td>\n",
              "      <td>1363.1048</td>\n",
              "      <td>1.0518</td>\n",
              "      <td>100.0</td>\n",
              "      <td>101.8644</td>\n",
              "      <td>0.1220</td>\n",
              "      <td>1.4108</td>\n",
              "      <td>...</td>\n",
              "      <td>NaN</td>\n",
              "      <td>0.4934</td>\n",
              "      <td>0.0123</td>\n",
              "      <td>0.0040</td>\n",
              "      <td>2.4923</td>\n",
              "      <td>0.0545</td>\n",
              "      <td>0.0184</td>\n",
              "      <td>0.0055</td>\n",
              "      <td>33.7876</td>\n",
              "      <td>-1</td>\n",
              "    </tr>\n",
              "    <tr>\n",
              "      <th>4</th>\n",
              "      <td>Wafer-805</td>\n",
              "      <td>3006.95</td>\n",
              "      <td>2435.34</td>\n",
              "      <td>2189.8111</td>\n",
              "      <td>1084.6502</td>\n",
              "      <td>1.1993</td>\n",
              "      <td>100.0</td>\n",
              "      <td>104.8856</td>\n",
              "      <td>0.1234</td>\n",
              "      <td>1.5094</td>\n",
              "      <td>...</td>\n",
              "      <td>NaN</td>\n",
              "      <td>0.4987</td>\n",
              "      <td>0.0145</td>\n",
              "      <td>0.0041</td>\n",
              "      <td>2.8991</td>\n",
              "      <td>0.0545</td>\n",
              "      <td>0.0184</td>\n",
              "      <td>0.0055</td>\n",
              "      <td>33.7876</td>\n",
              "      <td>-1</td>\n",
              "    </tr>\n",
              "    <tr>\n",
              "      <th>...</th>\n",
              "      <td>...</td>\n",
              "      <td>...</td>\n",
              "      <td>...</td>\n",
              "      <td>...</td>\n",
              "      <td>...</td>\n",
              "      <td>...</td>\n",
              "      <td>...</td>\n",
              "      <td>...</td>\n",
              "      <td>...</td>\n",
              "      <td>...</td>\n",
              "      <td>...</td>\n",
              "      <td>...</td>\n",
              "      <td>...</td>\n",
              "      <td>...</td>\n",
              "      <td>...</td>\n",
              "      <td>...</td>\n",
              "      <td>...</td>\n",
              "      <td>...</td>\n",
              "      <td>...</td>\n",
              "      <td>...</td>\n",
              "      <td>...</td>\n",
              "    </tr>\n",
              "    <tr>\n",
              "      <th>95</th>\n",
              "      <td>Wafer-896</td>\n",
              "      <td>3013.66</td>\n",
              "      <td>2526.44</td>\n",
              "      <td>2185.2111</td>\n",
              "      <td>1141.6306</td>\n",
              "      <td>0.8447</td>\n",
              "      <td>100.0</td>\n",
              "      <td>100.5978</td>\n",
              "      <td>0.1217</td>\n",
              "      <td>1.5337</td>\n",
              "      <td>...</td>\n",
              "      <td>NaN</td>\n",
              "      <td>0.5013</td>\n",
              "      <td>0.0076</td>\n",
              "      <td>0.0021</td>\n",
              "      <td>1.5152</td>\n",
              "      <td>0.0153</td>\n",
              "      <td>0.0048</td>\n",
              "      <td>0.0017</td>\n",
              "      <td>31.0176</td>\n",
              "      <td>-1</td>\n",
              "    </tr>\n",
              "    <tr>\n",
              "      <th>96</th>\n",
              "      <td>Wafer-897</td>\n",
              "      <td>2982.87</td>\n",
              "      <td>2477.01</td>\n",
              "      <td>2315.2667</td>\n",
              "      <td>2360.1325</td>\n",
              "      <td>1.1259</td>\n",
              "      <td>100.0</td>\n",
              "      <td>90.1144</td>\n",
              "      <td>0.1160</td>\n",
              "      <td>1.4695</td>\n",
              "      <td>...</td>\n",
              "      <td>NaN</td>\n",
              "      <td>0.5003</td>\n",
              "      <td>0.0106</td>\n",
              "      <td>0.0028</td>\n",
              "      <td>2.1263</td>\n",
              "      <td>0.0153</td>\n",
              "      <td>0.0048</td>\n",
              "      <td>0.0017</td>\n",
              "      <td>31.0176</td>\n",
              "      <td>1</td>\n",
              "    </tr>\n",
              "    <tr>\n",
              "      <th>97</th>\n",
              "      <td>Wafer-898</td>\n",
              "      <td>3084.82</td>\n",
              "      <td>2387.42</td>\n",
              "      <td>2171.5000</td>\n",
              "      <td>1028.4440</td>\n",
              "      <td>0.7899</td>\n",
              "      <td>100.0</td>\n",
              "      <td>101.5122</td>\n",
              "      <td>0.1224</td>\n",
              "      <td>1.3603</td>\n",
              "      <td>...</td>\n",
              "      <td>NaN</td>\n",
              "      <td>0.5016</td>\n",
              "      <td>0.0130</td>\n",
              "      <td>0.0028</td>\n",
              "      <td>2.5865</td>\n",
              "      <td>0.0153</td>\n",
              "      <td>0.0048</td>\n",
              "      <td>0.0017</td>\n",
              "      <td>31.0176</td>\n",
              "      <td>-1</td>\n",
              "    </tr>\n",
              "    <tr>\n",
              "      <th>98</th>\n",
              "      <td>Wafer-899</td>\n",
              "      <td>2955.87</td>\n",
              "      <td>2541.89</td>\n",
              "      <td>NaN</td>\n",
              "      <td>NaN</td>\n",
              "      <td>NaN</td>\n",
              "      <td>NaN</td>\n",
              "      <td>NaN</td>\n",
              "      <td>NaN</td>\n",
              "      <td>1.4493</td>\n",
              "      <td>...</td>\n",
              "      <td>NaN</td>\n",
              "      <td>0.5023</td>\n",
              "      <td>0.0140</td>\n",
              "      <td>0.0033</td>\n",
              "      <td>2.7810</td>\n",
              "      <td>0.0153</td>\n",
              "      <td>0.0048</td>\n",
              "      <td>0.0017</td>\n",
              "      <td>31.0176</td>\n",
              "      <td>-1</td>\n",
              "    </tr>\n",
              "    <tr>\n",
              "      <th>99</th>\n",
              "      <td>Wafer-900</td>\n",
              "      <td>2914.86</td>\n",
              "      <td>2465.11</td>\n",
              "      <td>2210.2778</td>\n",
              "      <td>2120.5760</td>\n",
              "      <td>1.0700</td>\n",
              "      <td>100.0</td>\n",
              "      <td>95.1089</td>\n",
              "      <td>0.1230</td>\n",
              "      <td>1.5817</td>\n",
              "      <td>...</td>\n",
              "      <td>NaN</td>\n",
              "      <td>0.5026</td>\n",
              "      <td>0.0121</td>\n",
              "      <td>0.0032</td>\n",
              "      <td>2.4064</td>\n",
              "      <td>0.0153</td>\n",
              "      <td>0.0048</td>\n",
              "      <td>0.0017</td>\n",
              "      <td>31.0176</td>\n",
              "      <td>1</td>\n",
              "    </tr>\n",
              "  </tbody>\n",
              "</table>\n",
              "<p>100 rows × 592 columns</p>\n",
              "</div>\n",
              "    <div class=\"colab-df-buttons\">\n",
              "\n",
              "  <div class=\"colab-df-container\">\n",
              "    <button class=\"colab-df-convert\" onclick=\"convertToInteractive('df-9e684652-1372-464f-b8ec-81a4710a56cc')\"\n",
              "            title=\"Convert this dataframe to an interactive table.\"\n",
              "            style=\"display:none;\">\n",
              "\n",
              "  <svg xmlns=\"http://www.w3.org/2000/svg\" height=\"24px\" viewBox=\"0 -960 960 960\">\n",
              "    <path d=\"M120-120v-720h720v720H120Zm60-500h600v-160H180v160Zm220 220h160v-160H400v160Zm0 220h160v-160H400v160ZM180-400h160v-160H180v160Zm440 0h160v-160H620v160ZM180-180h160v-160H180v160Zm440 0h160v-160H620v160Z\"/>\n",
              "  </svg>\n",
              "    </button>\n",
              "\n",
              "  <style>\n",
              "    .colab-df-container {\n",
              "      display:flex;\n",
              "      gap: 12px;\n",
              "    }\n",
              "\n",
              "    .colab-df-convert {\n",
              "      background-color: #E8F0FE;\n",
              "      border: none;\n",
              "      border-radius: 50%;\n",
              "      cursor: pointer;\n",
              "      display: none;\n",
              "      fill: #1967D2;\n",
              "      height: 32px;\n",
              "      padding: 0 0 0 0;\n",
              "      width: 32px;\n",
              "    }\n",
              "\n",
              "    .colab-df-convert:hover {\n",
              "      background-color: #E2EBFA;\n",
              "      box-shadow: 0px 1px 2px rgba(60, 64, 67, 0.3), 0px 1px 3px 1px rgba(60, 64, 67, 0.15);\n",
              "      fill: #174EA6;\n",
              "    }\n",
              "\n",
              "    .colab-df-buttons div {\n",
              "      margin-bottom: 4px;\n",
              "    }\n",
              "\n",
              "    [theme=dark] .colab-df-convert {\n",
              "      background-color: #3B4455;\n",
              "      fill: #D2E3FC;\n",
              "    }\n",
              "\n",
              "    [theme=dark] .colab-df-convert:hover {\n",
              "      background-color: #434B5C;\n",
              "      box-shadow: 0px 1px 3px 1px rgba(0, 0, 0, 0.15);\n",
              "      filter: drop-shadow(0px 1px 2px rgba(0, 0, 0, 0.3));\n",
              "      fill: #FFFFFF;\n",
              "    }\n",
              "  </style>\n",
              "\n",
              "    <script>\n",
              "      const buttonEl =\n",
              "        document.querySelector('#df-9e684652-1372-464f-b8ec-81a4710a56cc button.colab-df-convert');\n",
              "      buttonEl.style.display =\n",
              "        google.colab.kernel.accessAllowed ? 'block' : 'none';\n",
              "\n",
              "      async function convertToInteractive(key) {\n",
              "        const element = document.querySelector('#df-9e684652-1372-464f-b8ec-81a4710a56cc');\n",
              "        const dataTable =\n",
              "          await google.colab.kernel.invokeFunction('convertToInteractive',\n",
              "                                                    [key], {});\n",
              "        if (!dataTable) return;\n",
              "\n",
              "        const docLinkHtml = 'Like what you see? Visit the ' +\n",
              "          '<a target=\"_blank\" href=https://colab.research.google.com/notebooks/data_table.ipynb>data table notebook</a>'\n",
              "          + ' to learn more about interactive tables.';\n",
              "        element.innerHTML = '';\n",
              "        dataTable['output_type'] = 'display_data';\n",
              "        await google.colab.output.renderOutput(dataTable, element);\n",
              "        const docLink = document.createElement('div');\n",
              "        docLink.innerHTML = docLinkHtml;\n",
              "        element.appendChild(docLink);\n",
              "      }\n",
              "    </script>\n",
              "  </div>\n",
              "\n",
              "\n",
              "<div id=\"df-e8e0ad96-a495-4ed3-8699-c7321cb80208\">\n",
              "  <button class=\"colab-df-quickchart\" onclick=\"quickchart('df-e8e0ad96-a495-4ed3-8699-c7321cb80208')\"\n",
              "            title=\"Suggest charts\"\n",
              "            style=\"display:none;\">\n",
              "\n",
              "<svg xmlns=\"http://www.w3.org/2000/svg\" height=\"24px\"viewBox=\"0 0 24 24\"\n",
              "     width=\"24px\">\n",
              "    <g>\n",
              "        <path d=\"M19 3H5c-1.1 0-2 .9-2 2v14c0 1.1.9 2 2 2h14c1.1 0 2-.9 2-2V5c0-1.1-.9-2-2-2zM9 17H7v-7h2v7zm4 0h-2V7h2v10zm4 0h-2v-4h2v4z\"/>\n",
              "    </g>\n",
              "</svg>\n",
              "  </button>\n",
              "\n",
              "<style>\n",
              "  .colab-df-quickchart {\n",
              "      --bg-color: #E8F0FE;\n",
              "      --fill-color: #1967D2;\n",
              "      --hover-bg-color: #E2EBFA;\n",
              "      --hover-fill-color: #174EA6;\n",
              "      --disabled-fill-color: #AAA;\n",
              "      --disabled-bg-color: #DDD;\n",
              "  }\n",
              "\n",
              "  [theme=dark] .colab-df-quickchart {\n",
              "      --bg-color: #3B4455;\n",
              "      --fill-color: #D2E3FC;\n",
              "      --hover-bg-color: #434B5C;\n",
              "      --hover-fill-color: #FFFFFF;\n",
              "      --disabled-bg-color: #3B4455;\n",
              "      --disabled-fill-color: #666;\n",
              "  }\n",
              "\n",
              "  .colab-df-quickchart {\n",
              "    background-color: var(--bg-color);\n",
              "    border: none;\n",
              "    border-radius: 50%;\n",
              "    cursor: pointer;\n",
              "    display: none;\n",
              "    fill: var(--fill-color);\n",
              "    height: 32px;\n",
              "    padding: 0;\n",
              "    width: 32px;\n",
              "  }\n",
              "\n",
              "  .colab-df-quickchart:hover {\n",
              "    background-color: var(--hover-bg-color);\n",
              "    box-shadow: 0 1px 2px rgba(60, 64, 67, 0.3), 0 1px 3px 1px rgba(60, 64, 67, 0.15);\n",
              "    fill: var(--button-hover-fill-color);\n",
              "  }\n",
              "\n",
              "  .colab-df-quickchart-complete:disabled,\n",
              "  .colab-df-quickchart-complete:disabled:hover {\n",
              "    background-color: var(--disabled-bg-color);\n",
              "    fill: var(--disabled-fill-color);\n",
              "    box-shadow: none;\n",
              "  }\n",
              "\n",
              "  .colab-df-spinner {\n",
              "    border: 2px solid var(--fill-color);\n",
              "    border-color: transparent;\n",
              "    border-bottom-color: var(--fill-color);\n",
              "    animation:\n",
              "      spin 1s steps(1) infinite;\n",
              "  }\n",
              "\n",
              "  @keyframes spin {\n",
              "    0% {\n",
              "      border-color: transparent;\n",
              "      border-bottom-color: var(--fill-color);\n",
              "      border-left-color: var(--fill-color);\n",
              "    }\n",
              "    20% {\n",
              "      border-color: transparent;\n",
              "      border-left-color: var(--fill-color);\n",
              "      border-top-color: var(--fill-color);\n",
              "    }\n",
              "    30% {\n",
              "      border-color: transparent;\n",
              "      border-left-color: var(--fill-color);\n",
              "      border-top-color: var(--fill-color);\n",
              "      border-right-color: var(--fill-color);\n",
              "    }\n",
              "    40% {\n",
              "      border-color: transparent;\n",
              "      border-right-color: var(--fill-color);\n",
              "      border-top-color: var(--fill-color);\n",
              "    }\n",
              "    60% {\n",
              "      border-color: transparent;\n",
              "      border-right-color: var(--fill-color);\n",
              "    }\n",
              "    80% {\n",
              "      border-color: transparent;\n",
              "      border-right-color: var(--fill-color);\n",
              "      border-bottom-color: var(--fill-color);\n",
              "    }\n",
              "    90% {\n",
              "      border-color: transparent;\n",
              "      border-bottom-color: var(--fill-color);\n",
              "    }\n",
              "  }\n",
              "</style>\n",
              "\n",
              "  <script>\n",
              "    async function quickchart(key) {\n",
              "      const quickchartButtonEl =\n",
              "        document.querySelector('#' + key + ' button');\n",
              "      quickchartButtonEl.disabled = true;  // To prevent multiple clicks.\n",
              "      quickchartButtonEl.classList.add('colab-df-spinner');\n",
              "      try {\n",
              "        const charts = await google.colab.kernel.invokeFunction(\n",
              "            'suggestCharts', [key], {});\n",
              "      } catch (error) {\n",
              "        console.error('Error during call to suggestCharts:', error);\n",
              "      }\n",
              "      quickchartButtonEl.classList.remove('colab-df-spinner');\n",
              "      quickchartButtonEl.classList.add('colab-df-quickchart-complete');\n",
              "    }\n",
              "    (() => {\n",
              "      let quickchartButtonEl =\n",
              "        document.querySelector('#df-e8e0ad96-a495-4ed3-8699-c7321cb80208 button');\n",
              "      quickchartButtonEl.style.display =\n",
              "        google.colab.kernel.accessAllowed ? 'block' : 'none';\n",
              "    })();\n",
              "  </script>\n",
              "</div>\n",
              "\n",
              "  <div id=\"id_5afb21ba-0448-4464-a7fa-91cfbcca8627\">\n",
              "    <style>\n",
              "      .colab-df-generate {\n",
              "        background-color: #E8F0FE;\n",
              "        border: none;\n",
              "        border-radius: 50%;\n",
              "        cursor: pointer;\n",
              "        display: none;\n",
              "        fill: #1967D2;\n",
              "        height: 32px;\n",
              "        padding: 0 0 0 0;\n",
              "        width: 32px;\n",
              "      }\n",
              "\n",
              "      .colab-df-generate:hover {\n",
              "        background-color: #E2EBFA;\n",
              "        box-shadow: 0px 1px 2px rgba(60, 64, 67, 0.3), 0px 1px 3px 1px rgba(60, 64, 67, 0.15);\n",
              "        fill: #174EA6;\n",
              "      }\n",
              "\n",
              "      [theme=dark] .colab-df-generate {\n",
              "        background-color: #3B4455;\n",
              "        fill: #D2E3FC;\n",
              "      }\n",
              "\n",
              "      [theme=dark] .colab-df-generate:hover {\n",
              "        background-color: #434B5C;\n",
              "        box-shadow: 0px 1px 3px 1px rgba(0, 0, 0, 0.15);\n",
              "        filter: drop-shadow(0px 1px 2px rgba(0, 0, 0, 0.3));\n",
              "        fill: #FFFFFF;\n",
              "      }\n",
              "    </style>\n",
              "    <button class=\"colab-df-generate\" onclick=\"generateWithVariable('wafers')\"\n",
              "            title=\"Generate code using this dataframe.\"\n",
              "            style=\"display:none;\">\n",
              "\n",
              "  <svg xmlns=\"http://www.w3.org/2000/svg\" height=\"24px\"viewBox=\"0 0 24 24\"\n",
              "       width=\"24px\">\n",
              "    <path d=\"M7,19H8.4L18.45,9,17,7.55,7,17.6ZM5,21V16.75L18.45,3.32a2,2,0,0,1,2.83,0l1.4,1.43a1.91,1.91,0,0,1,.58,1.4,1.91,1.91,0,0,1-.58,1.4L9.25,21ZM18.45,9,17,7.55Zm-12,3A5.31,5.31,0,0,0,4.9,8.1,5.31,5.31,0,0,0,1,6.5,5.31,5.31,0,0,0,4.9,4.9,5.31,5.31,0,0,0,6.5,1,5.31,5.31,0,0,0,8.1,4.9,5.31,5.31,0,0,0,12,6.5,5.46,5.46,0,0,0,6.5,12Z\"/>\n",
              "  </svg>\n",
              "    </button>\n",
              "    <script>\n",
              "      (() => {\n",
              "      const buttonEl =\n",
              "        document.querySelector('#id_5afb21ba-0448-4464-a7fa-91cfbcca8627 button.colab-df-generate');\n",
              "      buttonEl.style.display =\n",
              "        google.colab.kernel.accessAllowed ? 'block' : 'none';\n",
              "\n",
              "      buttonEl.onclick = () => {\n",
              "        google.colab.notebook.generateWithVariable('wafers');\n",
              "      }\n",
              "      })();\n",
              "    </script>\n",
              "  </div>\n",
              "\n",
              "    </div>\n",
              "  </div>\n"
            ],
            "application/vnd.google.colaboratory.intrinsic+json": {
              "type": "dataframe",
              "variable_name": "wafers"
            }
          },
          "metadata": {},
          "execution_count": 8
        }
      ]
    },
    {
      "cell_type": "code",
      "source": [
        "# train_test_split\n",
        "\n",
        "from sklearn.model_selection import train_test_split"
      ],
      "metadata": {
        "id": "IrphW1epdOIt"
      },
      "execution_count": 9,
      "outputs": []
    },
    {
      "cell_type": "code",
      "source": [
        "wafers, wafers_test=train_test_split(wafers, test_size=0.20, random_state=42)"
      ],
      "metadata": {
        "id": "p6SeMOWYe5tX"
      },
      "execution_count": 10,
      "outputs": []
    },
    {
      "cell_type": "code",
      "source": [
        "wafers.shape, wafers_test.shape"
      ],
      "metadata": {
        "colab": {
          "base_uri": "https://localhost:8080/"
        },
        "id": "gYeVY7ejfMXd",
        "outputId": "b29b3c08-b3b7-4ce5-bd09-7d263b6b736c"
      },
      "execution_count": 11,
      "outputs": [
        {
          "output_type": "execute_result",
          "data": {
            "text/plain": [
              "((80, 592), (20, 592))"
            ]
          },
          "metadata": {},
          "execution_count": 11
        }
      ]
    },
    {
      "cell_type": "code",
      "source": [
        "wafers.describe()"
      ],
      "metadata": {
        "colab": {
          "base_uri": "https://localhost:8080/",
          "height": 366
        },
        "id": "pwdW1B-sfSTB",
        "outputId": "9f321a25-8f9c-4737-dd70-42eac9aa3022"
      },
      "execution_count": 12,
      "outputs": [
        {
          "output_type": "execute_result",
          "data": {
            "text/plain": [
              "          Sensor-1     Sensor-2     Sensor-3     Sensor-4   Sensor-5  \\\n",
              "count    79.000000    80.000000    78.000000    78.000000  78.000000   \n",
              "mean   3019.048228  2494.058875  2202.758988  1519.467071   1.201382   \n",
              "std      72.665372    68.166898    31.633772   471.962104   0.365870   \n",
              "min    2889.670000  2254.990000  2114.666700   978.783200   0.753100   \n",
              "25%    2975.425000  2452.517500  2189.966700  1111.543600   0.850075   \n",
              "50%    3004.390000  2502.445000  2200.955600  1308.647900   1.164250   \n",
              "75%    3065.730000  2532.755000  2212.866700  1997.641600   1.383000   \n",
              "max    3221.210000  2664.520000  2315.266700  2363.641200   2.207300   \n",
              "\n",
              "       Sensor-6    Sensor-7   Sensor-8   Sensor-9  Sensor-10  ...  Sensor-582  \\\n",
              "count      78.0   78.000000  78.000000  80.000000  80.000000  ...   27.000000   \n",
              "mean      100.0   96.881160   0.122158   1.460087   0.000946  ...   63.785093   \n",
              "std         0.0    5.520108   0.002062   0.072159   0.010865  ...   30.722790   \n",
              "min       100.0   83.423300   0.116000   1.317900  -0.026500  ...   20.309100   \n",
              "25%       100.0   93.547250   0.120800   1.409950  -0.005750  ...   46.961400   \n",
              "50%       100.0   99.217800   0.122150   1.451900   0.001500  ...   54.476100   \n",
              "75%       100.0  101.133300   0.123375   1.498675   0.009000  ...   80.740300   \n",
              "max       100.0  103.091100   0.126200   1.641100   0.025000  ...  151.193000   \n",
              "\n",
              "       Sensor-583  Sensor-584  Sensor-585  Sensor-586  Sensor-587  Sensor-588  \\\n",
              "count   80.000000   80.000000   80.000000   80.000000   80.000000   80.000000   \n",
              "mean     0.499493    0.013905    0.003591    2.785103    0.023543    0.014155   \n",
              "std      0.003683    0.004577    0.000908    0.923064    0.011668    0.007263   \n",
              "min      0.492500    0.007600    0.002100    1.515200    0.009900    0.004800   \n",
              "25%      0.497175    0.011500    0.003100    2.298350    0.013850    0.009000   \n",
              "50%      0.499450    0.012950    0.003400    2.577150    0.021800    0.013100   \n",
              "75%      0.501700    0.014950    0.003925    2.992300    0.028100    0.018400   \n",
              "max      0.508700    0.043700    0.008900    8.816000    0.054500    0.033400   \n",
              "\n",
              "       Sensor-589  Sensor-590   Good/Bad  \n",
              "count   80.000000   80.000000  80.000000  \n",
              "mean     0.004439   72.116730  -0.850000  \n",
              "std      0.002324   50.770394   0.530106  \n",
              "min      0.001700   20.309100  -1.000000  \n",
              "25%      0.002650   33.654025  -1.000000  \n",
              "50%      0.003800   59.082500  -1.000000  \n",
              "75%      0.005750   93.190025  -1.000000  \n",
              "max      0.012000  223.101800   1.000000  \n",
              "\n",
              "[8 rows x 591 columns]"
            ],
            "text/html": [
              "\n",
              "  <div id=\"df-c0fb7200-9bf4-482e-a552-9bb61787c6b6\" class=\"colab-df-container\">\n",
              "    <div>\n",
              "<style scoped>\n",
              "    .dataframe tbody tr th:only-of-type {\n",
              "        vertical-align: middle;\n",
              "    }\n",
              "\n",
              "    .dataframe tbody tr th {\n",
              "        vertical-align: top;\n",
              "    }\n",
              "\n",
              "    .dataframe thead th {\n",
              "        text-align: right;\n",
              "    }\n",
              "</style>\n",
              "<table border=\"1\" class=\"dataframe\">\n",
              "  <thead>\n",
              "    <tr style=\"text-align: right;\">\n",
              "      <th></th>\n",
              "      <th>Sensor-1</th>\n",
              "      <th>Sensor-2</th>\n",
              "      <th>Sensor-3</th>\n",
              "      <th>Sensor-4</th>\n",
              "      <th>Sensor-5</th>\n",
              "      <th>Sensor-6</th>\n",
              "      <th>Sensor-7</th>\n",
              "      <th>Sensor-8</th>\n",
              "      <th>Sensor-9</th>\n",
              "      <th>Sensor-10</th>\n",
              "      <th>...</th>\n",
              "      <th>Sensor-582</th>\n",
              "      <th>Sensor-583</th>\n",
              "      <th>Sensor-584</th>\n",
              "      <th>Sensor-585</th>\n",
              "      <th>Sensor-586</th>\n",
              "      <th>Sensor-587</th>\n",
              "      <th>Sensor-588</th>\n",
              "      <th>Sensor-589</th>\n",
              "      <th>Sensor-590</th>\n",
              "      <th>Good/Bad</th>\n",
              "    </tr>\n",
              "  </thead>\n",
              "  <tbody>\n",
              "    <tr>\n",
              "      <th>count</th>\n",
              "      <td>79.000000</td>\n",
              "      <td>80.000000</td>\n",
              "      <td>78.000000</td>\n",
              "      <td>78.000000</td>\n",
              "      <td>78.000000</td>\n",
              "      <td>78.0</td>\n",
              "      <td>78.000000</td>\n",
              "      <td>78.000000</td>\n",
              "      <td>80.000000</td>\n",
              "      <td>80.000000</td>\n",
              "      <td>...</td>\n",
              "      <td>27.000000</td>\n",
              "      <td>80.000000</td>\n",
              "      <td>80.000000</td>\n",
              "      <td>80.000000</td>\n",
              "      <td>80.000000</td>\n",
              "      <td>80.000000</td>\n",
              "      <td>80.000000</td>\n",
              "      <td>80.000000</td>\n",
              "      <td>80.000000</td>\n",
              "      <td>80.000000</td>\n",
              "    </tr>\n",
              "    <tr>\n",
              "      <th>mean</th>\n",
              "      <td>3019.048228</td>\n",
              "      <td>2494.058875</td>\n",
              "      <td>2202.758988</td>\n",
              "      <td>1519.467071</td>\n",
              "      <td>1.201382</td>\n",
              "      <td>100.0</td>\n",
              "      <td>96.881160</td>\n",
              "      <td>0.122158</td>\n",
              "      <td>1.460087</td>\n",
              "      <td>0.000946</td>\n",
              "      <td>...</td>\n",
              "      <td>63.785093</td>\n",
              "      <td>0.499493</td>\n",
              "      <td>0.013905</td>\n",
              "      <td>0.003591</td>\n",
              "      <td>2.785103</td>\n",
              "      <td>0.023543</td>\n",
              "      <td>0.014155</td>\n",
              "      <td>0.004439</td>\n",
              "      <td>72.116730</td>\n",
              "      <td>-0.850000</td>\n",
              "    </tr>\n",
              "    <tr>\n",
              "      <th>std</th>\n",
              "      <td>72.665372</td>\n",
              "      <td>68.166898</td>\n",
              "      <td>31.633772</td>\n",
              "      <td>471.962104</td>\n",
              "      <td>0.365870</td>\n",
              "      <td>0.0</td>\n",
              "      <td>5.520108</td>\n",
              "      <td>0.002062</td>\n",
              "      <td>0.072159</td>\n",
              "      <td>0.010865</td>\n",
              "      <td>...</td>\n",
              "      <td>30.722790</td>\n",
              "      <td>0.003683</td>\n",
              "      <td>0.004577</td>\n",
              "      <td>0.000908</td>\n",
              "      <td>0.923064</td>\n",
              "      <td>0.011668</td>\n",
              "      <td>0.007263</td>\n",
              "      <td>0.002324</td>\n",
              "      <td>50.770394</td>\n",
              "      <td>0.530106</td>\n",
              "    </tr>\n",
              "    <tr>\n",
              "      <th>min</th>\n",
              "      <td>2889.670000</td>\n",
              "      <td>2254.990000</td>\n",
              "      <td>2114.666700</td>\n",
              "      <td>978.783200</td>\n",
              "      <td>0.753100</td>\n",
              "      <td>100.0</td>\n",
              "      <td>83.423300</td>\n",
              "      <td>0.116000</td>\n",
              "      <td>1.317900</td>\n",
              "      <td>-0.026500</td>\n",
              "      <td>...</td>\n",
              "      <td>20.309100</td>\n",
              "      <td>0.492500</td>\n",
              "      <td>0.007600</td>\n",
              "      <td>0.002100</td>\n",
              "      <td>1.515200</td>\n",
              "      <td>0.009900</td>\n",
              "      <td>0.004800</td>\n",
              "      <td>0.001700</td>\n",
              "      <td>20.309100</td>\n",
              "      <td>-1.000000</td>\n",
              "    </tr>\n",
              "    <tr>\n",
              "      <th>25%</th>\n",
              "      <td>2975.425000</td>\n",
              "      <td>2452.517500</td>\n",
              "      <td>2189.966700</td>\n",
              "      <td>1111.543600</td>\n",
              "      <td>0.850075</td>\n",
              "      <td>100.0</td>\n",
              "      <td>93.547250</td>\n",
              "      <td>0.120800</td>\n",
              "      <td>1.409950</td>\n",
              "      <td>-0.005750</td>\n",
              "      <td>...</td>\n",
              "      <td>46.961400</td>\n",
              "      <td>0.497175</td>\n",
              "      <td>0.011500</td>\n",
              "      <td>0.003100</td>\n",
              "      <td>2.298350</td>\n",
              "      <td>0.013850</td>\n",
              "      <td>0.009000</td>\n",
              "      <td>0.002650</td>\n",
              "      <td>33.654025</td>\n",
              "      <td>-1.000000</td>\n",
              "    </tr>\n",
              "    <tr>\n",
              "      <th>50%</th>\n",
              "      <td>3004.390000</td>\n",
              "      <td>2502.445000</td>\n",
              "      <td>2200.955600</td>\n",
              "      <td>1308.647900</td>\n",
              "      <td>1.164250</td>\n",
              "      <td>100.0</td>\n",
              "      <td>99.217800</td>\n",
              "      <td>0.122150</td>\n",
              "      <td>1.451900</td>\n",
              "      <td>0.001500</td>\n",
              "      <td>...</td>\n",
              "      <td>54.476100</td>\n",
              "      <td>0.499450</td>\n",
              "      <td>0.012950</td>\n",
              "      <td>0.003400</td>\n",
              "      <td>2.577150</td>\n",
              "      <td>0.021800</td>\n",
              "      <td>0.013100</td>\n",
              "      <td>0.003800</td>\n",
              "      <td>59.082500</td>\n",
              "      <td>-1.000000</td>\n",
              "    </tr>\n",
              "    <tr>\n",
              "      <th>75%</th>\n",
              "      <td>3065.730000</td>\n",
              "      <td>2532.755000</td>\n",
              "      <td>2212.866700</td>\n",
              "      <td>1997.641600</td>\n",
              "      <td>1.383000</td>\n",
              "      <td>100.0</td>\n",
              "      <td>101.133300</td>\n",
              "      <td>0.123375</td>\n",
              "      <td>1.498675</td>\n",
              "      <td>0.009000</td>\n",
              "      <td>...</td>\n",
              "      <td>80.740300</td>\n",
              "      <td>0.501700</td>\n",
              "      <td>0.014950</td>\n",
              "      <td>0.003925</td>\n",
              "      <td>2.992300</td>\n",
              "      <td>0.028100</td>\n",
              "      <td>0.018400</td>\n",
              "      <td>0.005750</td>\n",
              "      <td>93.190025</td>\n",
              "      <td>-1.000000</td>\n",
              "    </tr>\n",
              "    <tr>\n",
              "      <th>max</th>\n",
              "      <td>3221.210000</td>\n",
              "      <td>2664.520000</td>\n",
              "      <td>2315.266700</td>\n",
              "      <td>2363.641200</td>\n",
              "      <td>2.207300</td>\n",
              "      <td>100.0</td>\n",
              "      <td>103.091100</td>\n",
              "      <td>0.126200</td>\n",
              "      <td>1.641100</td>\n",
              "      <td>0.025000</td>\n",
              "      <td>...</td>\n",
              "      <td>151.193000</td>\n",
              "      <td>0.508700</td>\n",
              "      <td>0.043700</td>\n",
              "      <td>0.008900</td>\n",
              "      <td>8.816000</td>\n",
              "      <td>0.054500</td>\n",
              "      <td>0.033400</td>\n",
              "      <td>0.012000</td>\n",
              "      <td>223.101800</td>\n",
              "      <td>1.000000</td>\n",
              "    </tr>\n",
              "  </tbody>\n",
              "</table>\n",
              "<p>8 rows × 591 columns</p>\n",
              "</div>\n",
              "    <div class=\"colab-df-buttons\">\n",
              "\n",
              "  <div class=\"colab-df-container\">\n",
              "    <button class=\"colab-df-convert\" onclick=\"convertToInteractive('df-c0fb7200-9bf4-482e-a552-9bb61787c6b6')\"\n",
              "            title=\"Convert this dataframe to an interactive table.\"\n",
              "            style=\"display:none;\">\n",
              "\n",
              "  <svg xmlns=\"http://www.w3.org/2000/svg\" height=\"24px\" viewBox=\"0 -960 960 960\">\n",
              "    <path d=\"M120-120v-720h720v720H120Zm60-500h600v-160H180v160Zm220 220h160v-160H400v160Zm0 220h160v-160H400v160ZM180-400h160v-160H180v160Zm440 0h160v-160H620v160ZM180-180h160v-160H180v160Zm440 0h160v-160H620v160Z\"/>\n",
              "  </svg>\n",
              "    </button>\n",
              "\n",
              "  <style>\n",
              "    .colab-df-container {\n",
              "      display:flex;\n",
              "      gap: 12px;\n",
              "    }\n",
              "\n",
              "    .colab-df-convert {\n",
              "      background-color: #E8F0FE;\n",
              "      border: none;\n",
              "      border-radius: 50%;\n",
              "      cursor: pointer;\n",
              "      display: none;\n",
              "      fill: #1967D2;\n",
              "      height: 32px;\n",
              "      padding: 0 0 0 0;\n",
              "      width: 32px;\n",
              "    }\n",
              "\n",
              "    .colab-df-convert:hover {\n",
              "      background-color: #E2EBFA;\n",
              "      box-shadow: 0px 1px 2px rgba(60, 64, 67, 0.3), 0px 1px 3px 1px rgba(60, 64, 67, 0.15);\n",
              "      fill: #174EA6;\n",
              "    }\n",
              "\n",
              "    .colab-df-buttons div {\n",
              "      margin-bottom: 4px;\n",
              "    }\n",
              "\n",
              "    [theme=dark] .colab-df-convert {\n",
              "      background-color: #3B4455;\n",
              "      fill: #D2E3FC;\n",
              "    }\n",
              "\n",
              "    [theme=dark] .colab-df-convert:hover {\n",
              "      background-color: #434B5C;\n",
              "      box-shadow: 0px 1px 3px 1px rgba(0, 0, 0, 0.15);\n",
              "      filter: drop-shadow(0px 1px 2px rgba(0, 0, 0, 0.3));\n",
              "      fill: #FFFFFF;\n",
              "    }\n",
              "  </style>\n",
              "\n",
              "    <script>\n",
              "      const buttonEl =\n",
              "        document.querySelector('#df-c0fb7200-9bf4-482e-a552-9bb61787c6b6 button.colab-df-convert');\n",
              "      buttonEl.style.display =\n",
              "        google.colab.kernel.accessAllowed ? 'block' : 'none';\n",
              "\n",
              "      async function convertToInteractive(key) {\n",
              "        const element = document.querySelector('#df-c0fb7200-9bf4-482e-a552-9bb61787c6b6');\n",
              "        const dataTable =\n",
              "          await google.colab.kernel.invokeFunction('convertToInteractive',\n",
              "                                                    [key], {});\n",
              "        if (!dataTable) return;\n",
              "\n",
              "        const docLinkHtml = 'Like what you see? Visit the ' +\n",
              "          '<a target=\"_blank\" href=https://colab.research.google.com/notebooks/data_table.ipynb>data table notebook</a>'\n",
              "          + ' to learn more about interactive tables.';\n",
              "        element.innerHTML = '';\n",
              "        dataTable['output_type'] = 'display_data';\n",
              "        await google.colab.output.renderOutput(dataTable, element);\n",
              "        const docLink = document.createElement('div');\n",
              "        docLink.innerHTML = docLinkHtml;\n",
              "        element.appendChild(docLink);\n",
              "      }\n",
              "    </script>\n",
              "  </div>\n",
              "\n",
              "\n",
              "<div id=\"df-fff6c187-573d-4be6-b102-34d3fcc8b678\">\n",
              "  <button class=\"colab-df-quickchart\" onclick=\"quickchart('df-fff6c187-573d-4be6-b102-34d3fcc8b678')\"\n",
              "            title=\"Suggest charts\"\n",
              "            style=\"display:none;\">\n",
              "\n",
              "<svg xmlns=\"http://www.w3.org/2000/svg\" height=\"24px\"viewBox=\"0 0 24 24\"\n",
              "     width=\"24px\">\n",
              "    <g>\n",
              "        <path d=\"M19 3H5c-1.1 0-2 .9-2 2v14c0 1.1.9 2 2 2h14c1.1 0 2-.9 2-2V5c0-1.1-.9-2-2-2zM9 17H7v-7h2v7zm4 0h-2V7h2v10zm4 0h-2v-4h2v4z\"/>\n",
              "    </g>\n",
              "</svg>\n",
              "  </button>\n",
              "\n",
              "<style>\n",
              "  .colab-df-quickchart {\n",
              "      --bg-color: #E8F0FE;\n",
              "      --fill-color: #1967D2;\n",
              "      --hover-bg-color: #E2EBFA;\n",
              "      --hover-fill-color: #174EA6;\n",
              "      --disabled-fill-color: #AAA;\n",
              "      --disabled-bg-color: #DDD;\n",
              "  }\n",
              "\n",
              "  [theme=dark] .colab-df-quickchart {\n",
              "      --bg-color: #3B4455;\n",
              "      --fill-color: #D2E3FC;\n",
              "      --hover-bg-color: #434B5C;\n",
              "      --hover-fill-color: #FFFFFF;\n",
              "      --disabled-bg-color: #3B4455;\n",
              "      --disabled-fill-color: #666;\n",
              "  }\n",
              "\n",
              "  .colab-df-quickchart {\n",
              "    background-color: var(--bg-color);\n",
              "    border: none;\n",
              "    border-radius: 50%;\n",
              "    cursor: pointer;\n",
              "    display: none;\n",
              "    fill: var(--fill-color);\n",
              "    height: 32px;\n",
              "    padding: 0;\n",
              "    width: 32px;\n",
              "  }\n",
              "\n",
              "  .colab-df-quickchart:hover {\n",
              "    background-color: var(--hover-bg-color);\n",
              "    box-shadow: 0 1px 2px rgba(60, 64, 67, 0.3), 0 1px 3px 1px rgba(60, 64, 67, 0.15);\n",
              "    fill: var(--button-hover-fill-color);\n",
              "  }\n",
              "\n",
              "  .colab-df-quickchart-complete:disabled,\n",
              "  .colab-df-quickchart-complete:disabled:hover {\n",
              "    background-color: var(--disabled-bg-color);\n",
              "    fill: var(--disabled-fill-color);\n",
              "    box-shadow: none;\n",
              "  }\n",
              "\n",
              "  .colab-df-spinner {\n",
              "    border: 2px solid var(--fill-color);\n",
              "    border-color: transparent;\n",
              "    border-bottom-color: var(--fill-color);\n",
              "    animation:\n",
              "      spin 1s steps(1) infinite;\n",
              "  }\n",
              "\n",
              "  @keyframes spin {\n",
              "    0% {\n",
              "      border-color: transparent;\n",
              "      border-bottom-color: var(--fill-color);\n",
              "      border-left-color: var(--fill-color);\n",
              "    }\n",
              "    20% {\n",
              "      border-color: transparent;\n",
              "      border-left-color: var(--fill-color);\n",
              "      border-top-color: var(--fill-color);\n",
              "    }\n",
              "    30% {\n",
              "      border-color: transparent;\n",
              "      border-left-color: var(--fill-color);\n",
              "      border-top-color: var(--fill-color);\n",
              "      border-right-color: var(--fill-color);\n",
              "    }\n",
              "    40% {\n",
              "      border-color: transparent;\n",
              "      border-right-color: var(--fill-color);\n",
              "      border-top-color: var(--fill-color);\n",
              "    }\n",
              "    60% {\n",
              "      border-color: transparent;\n",
              "      border-right-color: var(--fill-color);\n",
              "    }\n",
              "    80% {\n",
              "      border-color: transparent;\n",
              "      border-right-color: var(--fill-color);\n",
              "      border-bottom-color: var(--fill-color);\n",
              "    }\n",
              "    90% {\n",
              "      border-color: transparent;\n",
              "      border-bottom-color: var(--fill-color);\n",
              "    }\n",
              "  }\n",
              "</style>\n",
              "\n",
              "  <script>\n",
              "    async function quickchart(key) {\n",
              "      const quickchartButtonEl =\n",
              "        document.querySelector('#' + key + ' button');\n",
              "      quickchartButtonEl.disabled = true;  // To prevent multiple clicks.\n",
              "      quickchartButtonEl.classList.add('colab-df-spinner');\n",
              "      try {\n",
              "        const charts = await google.colab.kernel.invokeFunction(\n",
              "            'suggestCharts', [key], {});\n",
              "      } catch (error) {\n",
              "        console.error('Error during call to suggestCharts:', error);\n",
              "      }\n",
              "      quickchartButtonEl.classList.remove('colab-df-spinner');\n",
              "      quickchartButtonEl.classList.add('colab-df-quickchart-complete');\n",
              "    }\n",
              "    (() => {\n",
              "      let quickchartButtonEl =\n",
              "        document.querySelector('#df-fff6c187-573d-4be6-b102-34d3fcc8b678 button');\n",
              "      quickchartButtonEl.style.display =\n",
              "        google.colab.kernel.accessAllowed ? 'block' : 'none';\n",
              "    })();\n",
              "  </script>\n",
              "</div>\n",
              "\n",
              "    </div>\n",
              "  </div>\n"
            ],
            "application/vnd.google.colaboratory.intrinsic+json": {
              "type": "dataframe"
            }
          },
          "metadata": {},
          "execution_count": 12
        }
      ]
    },
    {
      "cell_type": "code",
      "source": [
        "wafers[\"Good/Bad\"].value_counts()"
      ],
      "metadata": {
        "colab": {
          "base_uri": "https://localhost:8080/",
          "height": 178
        },
        "id": "TClOmlL3fmjZ",
        "outputId": "e7df0bc7-a499-4dae-c959-92ab46086de2"
      },
      "execution_count": 13,
      "outputs": [
        {
          "output_type": "execute_result",
          "data": {
            "text/plain": [
              "Good/Bad\n",
              "-1    74\n",
              " 1     6\n",
              "Name: count, dtype: int64"
            ],
            "text/html": [
              "<div>\n",
              "<style scoped>\n",
              "    .dataframe tbody tr th:only-of-type {\n",
              "        vertical-align: middle;\n",
              "    }\n",
              "\n",
              "    .dataframe tbody tr th {\n",
              "        vertical-align: top;\n",
              "    }\n",
              "\n",
              "    .dataframe thead th {\n",
              "        text-align: right;\n",
              "    }\n",
              "</style>\n",
              "<table border=\"1\" class=\"dataframe\">\n",
              "  <thead>\n",
              "    <tr style=\"text-align: right;\">\n",
              "      <th></th>\n",
              "      <th>count</th>\n",
              "    </tr>\n",
              "    <tr>\n",
              "      <th>Good/Bad</th>\n",
              "      <th></th>\n",
              "    </tr>\n",
              "  </thead>\n",
              "  <tbody>\n",
              "    <tr>\n",
              "      <th>-1</th>\n",
              "      <td>74</td>\n",
              "    </tr>\n",
              "    <tr>\n",
              "      <th>1</th>\n",
              "      <td>6</td>\n",
              "    </tr>\n",
              "  </tbody>\n",
              "</table>\n",
              "</div><br><label><b>dtype:</b> int64</label>"
            ]
          },
          "metadata": {},
          "execution_count": 13
        }
      ]
    },
    {
      "cell_type": "code",
      "source": [
        "wafers[\"Good/Bad\"].isna().sum()"
      ],
      "metadata": {
        "colab": {
          "base_uri": "https://localhost:8080/"
        },
        "id": "n1HlGTpNgSw0",
        "outputId": "284e5841-d589-4a42-df0d-e9ace74d8079"
      },
      "execution_count": 14,
      "outputs": [
        {
          "output_type": "execute_result",
          "data": {
            "text/plain": [
              "0"
            ]
          },
          "metadata": {},
          "execution_count": 14
        }
      ]
    },
    {
      "cell_type": "code",
      "source": [
        "wafers.isna().sum().sum()"
      ],
      "metadata": {
        "colab": {
          "base_uri": "https://localhost:8080/"
        },
        "id": "BKg5EvdpiqxF",
        "outputId": "c5ac2844-8056-4d31-da28-a52316cb634c"
      },
      "execution_count": 15,
      "outputs": [
        {
          "output_type": "execute_result",
          "data": {
            "text/plain": [
              "1822"
            ]
          },
          "metadata": {},
          "execution_count": 15
        }
      ]
    },
    {
      "cell_type": "code",
      "source": [
        "wafers.isna().sum().sum()/ (wafers.shape[0] * (wafers.shape[1] - 1))"
      ],
      "metadata": {
        "colab": {
          "base_uri": "https://localhost:8080/"
        },
        "id": "d5UhinCxg910",
        "outputId": "1a4ea505-4d45-4485-e96d-635373ca0993"
      },
      "execution_count": 16,
      "outputs": [
        {
          "output_type": "execute_result",
          "data": {
            "text/plain": [
              "0.038536379018612524"
            ]
          },
          "metadata": {},
          "execution_count": 16
        }
      ]
    },
    {
      "cell_type": "code",
      "source": [
        "wafers.shape[1]"
      ],
      "metadata": {
        "colab": {
          "base_uri": "https://localhost:8080/"
        },
        "id": "bwUK9F8XhR3G",
        "outputId": "154e1b65-01c7-4f47-b7ca-d60620c6bbd8"
      },
      "execution_count": 17,
      "outputs": [
        {
          "output_type": "execute_result",
          "data": {
            "text/plain": [
              "592"
            ]
          },
          "metadata": {},
          "execution_count": 17
        }
      ]
    },
    {
      "cell_type": "code",
      "source": [
        "wafers.shape[0]"
      ],
      "metadata": {
        "colab": {
          "base_uri": "https://localhost:8080/"
        },
        "id": "ofMD6ndahkv5",
        "outputId": "530e534b-48e8-41d0-8f98-ea12cd691ffb"
      },
      "execution_count": 18,
      "outputs": [
        {
          "output_type": "execute_result",
          "data": {
            "text/plain": [
              "80"
            ]
          },
          "metadata": {},
          "execution_count": 18
        }
      ]
    },
    {
      "cell_type": "code",
      "source": [
        "plt.figure(figsize=(15, 100))\n",
        "\n",
        "for i, col in enumerate(wafers.columns[1:51]):\n",
        "  plt.subplot(60, 3, i+1)\n",
        "  sns.distplot(x = wafers[col], color='indianred')\n",
        "  plt.xlabel(col, weight='bold')\n",
        "  plt.tight_layout()\n",
        "  plt.show()"
      ],
      "metadata": {
        "colab": {
          "base_uri": "https://localhost:8080/",
          "height": 884
        },
        "id": "x4tqd9cLjA4X",
        "outputId": "3cf314e0-9053-4b07-864a-7f5163a30e8c"
      },
      "execution_count": 19,
      "outputs": [
        {
          "output_type": "display_data",
          "data": {
            "text/plain": [
              "<Figure size 1500x10000 with 1 Axes>"
            ],
            "image/png": "[encoded data removed]"
          },
          "metadata": {}
        },
        {
          "output_type": "display_data",
          "data": {
            "text/plain": [
              "<Figure size 640x480 with 1 Axes>"
            ],
            "image/png": "[encoded data removed]"
          },
          "metadata": {}
        },
        {
          "output_type": "display_data",
          "data": {
            "text/plain": [
              "<Figure size 640x480 with 1 Axes>"
            ],
            "image/png": "[encoded data removed]"
          },
          "metadata": {}
        },
        {
          "output_type": "display_data",
          "data": {
            "text/plain": [
              "<Figure size 640x480 with 1 Axes>"
            ],
            "image/png": "[encoded data removed]"
          },
          "metadata": {}
        },
        {
          "output_type": "display_data",
          "data": {
            "text/plain": [
              "<Figure size 640x480 with 1 Axes>"
            ],
            "image/png": "[encoded data removed]"
          },
          "metadata": {}
        },
        {
          "output_type": "display_data",
          "data": {
            "text/plain": [
              "<Figure size 640x480 with 1 Axes>"
            ],
            "image/png": "[encoded data removed]"
          },
          "metadata": {}
        },
        {
          "output_type": "display_data",
          "data": {
            "text/plain": [
              "<Figure size 640x480 with 1 Axes>"
            ],
            "image/png": "[encoded data removed]"
          },
          "metadata": {}
        },
        {
          "output_type": "display_data",
          "data": {
            "text/plain": [
              "<Figure size 640x480 with 1 Axes>"
            ],
            "image/png": "[encoded data removed]"
          },
          "metadata": {}
        },
        {
          "output_type": "display_data",
          "data": {
            "text/plain": [
              "<Figure size 640x480 with 1 Axes>"
            ],
            "image/png": "[encoded data removed]"
          },
          "metadata": {}
        },
        {
          "output_type": "display_data",
          "data": {
            "text/plain": [
              "<Figure size 640x480 with 1 Axes>"
            ],
            "image/png": "[encoded data removed]"
          },
          "metadata": {}
        },
        {
          "output_type": "display_data",
          "data": {
            "text/plain": [
              "<Figure size 640x480 with 1 Axes>"
            ],
            "image/png": "[encoded data removed]"
          },
          "metadata": {}
        },
        {
          "output_type": "display_data",
          "data": {
            "text/plain": [
              "<Figure size 640x480 with 1 Axes>"
            ],
            "image/png": "[encoded data removed]"
          },
          "metadata": {}
        },
        {
          "output_type": "display_data",
          "data": {
            "text/plain": [
              "<Figure size 640x480 with 1 Axes>"
            ],
            "image/png": "[encoded data removed]"
          },
          "metadata": {}
        },
        {
          "output_type": "display_data",
          "data": {
            "text/plain": [
              "<Figure size 640x480 with 1 Axes>"
            ],
            "image/png": "[encoded data removed]"
          },
          "metadata": {}
        },
        {
          "output_type": "display_data",
          "data": {
            "text/plain": [
              "<Figure size 640x480 with 1 Axes>"
            ],
            "image/png": "[encoded data removed]"
          },
          "metadata": {}
        },
        {
          "output_type": "display_data",
          "data": {
            "text/plain": [
              "<Figure size 640x480 with 1 Axes>"
            ],
            "image/png": "[encoded data removed]"
          },
          "metadata": {}
        },
        {
          "output_type": "display_data",
          "data": {
            "text/plain": [
              "<Figure size 640x480 with 1 Axes>"
            ],
            "image/png": "[encoded data removed]"
          },
          "metadata": {}
        },
        {
          "output_type": "display_data",
          "data": {
            "text/plain": [
              "<Figure size 640x480 with 1 Axes>"
            ],
            "image/png": "[encoded data removed]"
          },
          "metadata": {}
        },
        {
          "output_type": "display_data",
          "data": {
            "text/plain": [
              "<Figure size 640x480 with 1 Axes>"
            ],
            "image/png": "[encoded data removed]"
          },
          "metadata": {}
        },
        {
          "output_type": "display_data",
          "data": {
            "text/plain": [
              "<Figure size 640x480 with 1 Axes>"
            ],
            "image/png": "[encoded data removed]"
          },
          "metadata": {}
        },
        {
          "output_type": "display_data",
          "data": {
            "text/plain": [
              "<Figure size 640x480 with 1 Axes>"
            ],
            "image/png": "[encoded data removed]"
          },
          "metadata": {}
        },
        {
          "output_type": "display_data",
          "data": {
            "text/plain": [
              "<Figure size 640x480 with 1 Axes>"
            ],
            "image/png": "[encoded data removed]"
          },
          "metadata": {}
        },
        {
          "output_type": "display_data",
          "data": {
            "text/plain": [
              "<Figure size 640x480 with 1 Axes>"
            ],
            "image/png": "[encoded data removed]"
          },
          "metadata": {}
        },
        {
          "output_type": "display_data",
          "data": {
            "text/plain": [
              "<Figure size 640x480 with 1 Axes>"
            ],
            "image/png": "[encoded data removed]"
          },
          "metadata": {}
        },
        {
          "output_type": "display_data",
          "data": {
            "text/plain": [
              "<Figure size 640x480 with 1 Axes>"
            ],
            "image/png": "[encoded data removed]"
          },
          "metadata": {}
        },
        {
          "output_type": "display_data",
          "data": {
            "text/plain": [
              "<Figure size 640x480 with 1 Axes>"
            ],
            "image/png": "[encoded data removed]"
          },
          "metadata": {}
        },
        {
          "output_type": "display_data",
          "data": {
            "text/plain": [
              "<Figure size 640x480 with 1 Axes>"
            ],
            "image/png": "[encoded data removed]"
          },
          "metadata": {}
        },
        {
          "output_type": "display_data",
          "data": {
            "text/plain": [
              "<Figure size 640x480 with 1 Axes>"
            ],
            "image/png": "[encoded data removed]"
          },
          "metadata": {}
        },
        {
          "output_type": "display_data",
          "data": {
            "text/plain": [
              "<Figure size 640x480 with 1 Axes>"
            ],
            "image/png": "[encoded data removed]"
          },
          "metadata": {}
        },
        {
          "output_type": "display_data",
          "data": {
            "text/plain": [
              "<Figure size 640x480 with 1 Axes>"
            ],
            "image/png": "[encoded data removed]"
          },
          "metadata": {}
        },
        {
          "output_type": "display_data",
          "data": {
            "text/plain": [
              "<Figure size 640x480 with 1 Axes>"
            ],
            "image/png": "[encoded data removed]"
          },
          "metadata": {}
        },
        {
          "output_type": "display_data",
          "data": {
            "text/plain": [
              "<Figure size 640x480 with 1 Axes>"
            ],
            "image/png": "[encoded data removed]"
          },
          "metadata": {}
        },
        {
          "output_type": "display_data",
          "data": {
            "text/plain": [
              "<Figure size 640x480 with 1 Axes>"
            ],
            "image/png": "[encoded data removed]"
          },
          "metadata": {}
        },
        {
          "output_type": "display_data",
          "data": {
            "text/plain": [
              "<Figure size 640x480 with 1 Axes>"
            ],
            "image/png": "[encoded data removed]"
          },
          "metadata": {}
        },
        {
          "output_type": "display_data",
          "data": {
            "text/plain": [
              "<Figure size 640x480 with 1 Axes>"
            ],
            "image/png": "[encoded data removed]"
          },
          "metadata": {}
        },
        {
          "output_type": "display_data",
          "data": {
            "text/plain": [
              "<Figure size 640x480 with 1 Axes>"
            ],
            "image/png": "[encoded data removed]"
          },
          "metadata": {}
        },
        {
          "output_type": "display_data",
          "data": {
            "text/plain": [
              "<Figure size 640x480 with 1 Axes>"
            ],
            "image/png": "[encoded data removed]"
          },
          "metadata": {}
        },
        {
          "output_type": "display_data",
          "data": {
            "text/plain": [
              "<Figure size 640x480 with 1 Axes>"
            ],
            "image/png": "[encoded data removed]"
          },
          "metadata": {}
        },
        {
          "output_type": "display_data",
          "data": {
            "text/plain": [
              "<Figure size 640x480 with 1 Axes>"
            ],
            "image/png": "[encoded data removed]"
          },
          "metadata": {}
        },
        {
          "output_type": "display_data",
          "data": {
            "text/plain": [
              "<Figure size 640x480 with 1 Axes>"
            ],
            "image/png": "[encoded data removed]"
          },
          "metadata": {}
        },
        {
          "output_type": "display_data",
          "data": {
            "text/plain": [
              "<Figure size 640x480 with 1 Axes>"
            ],
            "image/png": "[encoded data removed]"
          },
          "metadata": {}
        },
        {
          "output_type": "display_data",
          "data": {
            "text/plain": [
              "<Figure size 640x480 with 1 Axes>"
            ],
            "image/png": "[encoded data removed]"
          },
          "metadata": {}
        },
        {
          "output_type": "display_data",
          "data": {
            "text/plain": [
              "<Figure size 640x480 with 1 Axes>"
            ],
            "image/png": "[encoded data removed]"
          },
          "metadata": {}
        },
        {
          "output_type": "display_data",
          "data": {
            "text/plain": [
              "<Figure size 640x480 with 1 Axes>"
            ],
            "image/png": "[encoded data removed]"
          },
          "metadata": {}
        },
        {
          "output_type": "display_data",
          "data": {
            "text/plain": [
              "<Figure size 640x480 with 1 Axes>"
            ],
            "image/png": "[encoded data removed]"
          },
          "metadata": {}
        },
        {
          "output_type": "display_data",
          "data": {
            "text/plain": [
              "<Figure size 640x480 with 1 Axes>"
            ],
            "image/png": "[encoded data removed]"
          },
          "metadata": {}
        },
        {
          "output_type": "display_data",
          "data": {
            "text/plain": [
              "<Figure size 640x480 with 1 Axes>"
            ],
            "image/png": "[encoded data removed]"
          },
          "metadata": {}
        },
        {
          "output_type": "display_data",
          "data": {
            "text/plain": [
              "<Figure size 640x480 with 1 Axes>"
            ],
            "image/png": "[encoded data removed]"
          },
          "metadata": {}
        },
        {
          "output_type": "display_data",
          "data": {
            "text/plain": [
              "<Figure size 640x480 with 1 Axes>"
            ],
            "image/png": "[encoded data removed]"
          },
          "metadata": {}
        },
        {
          "output_type": "display_data",
          "data": {
            "text/plain": [
              "<Figure size 640x480 with 1 Axes>"
            ],
            "image/png": "[encoded data removed]"
          },
          "metadata": {}
        }
      ]
    },
    {
      "cell_type": "markdown",
      "source": [
        "Variety of Distribution:\n",
        "1. some sensors, like Sensor- 1, Sensor-2, and Sensor-3 have fairly normal(bell-shaped) distribution.\n",
        "2. Others like Sensor-14 and Sensor-24 show a distribution concentrated in a single value indicating very little or no variation.\n",
        "3. Some Sensors like Sensor-13, Sensor-22, and Sensor-24 show multi-model distribution indicating the presence of multiple distinct operating states or clusters of reading.\n"
      ],
      "metadata": {
        "id": "a3pmYlDq6blJ"
      }
    },
    {
      "cell_type": "markdown",
      "source": [
        "Presence of Outliers:\n",
        "1. For Sensors like Sensor-26, Sensor-29, and Sensor-36, the distribution plot shows sharp or isolated bars at certain values, suggesting the presence of outliers or anomalies.\n",
        "2. Sensor Sensor-6 has a flat distribution which may indicate that this sensor is either malfunctioning or capturing a constant value.\n",
        "\n"
      ],
      "metadata": {
        "id": "Dtt1HkYp775k"
      }
    },
    {
      "cell_type": "code",
      "source": [
        "random_50_sensors_idx = []\n",
        "for i in range(50):\n",
        "  if i not in random_50_sensors_idx:\n",
        "    random_50_sensors_idx.append(np.random.randint(1, 591))"
      ],
      "metadata": {
        "id": "fb9okdoi9C4O"
      },
      "execution_count": 20,
      "outputs": []
    },
    {
      "cell_type": "code",
      "source": [
        "plt.figure(figsize=(15, 100))\n",
        "\n",
        "for i, col in enumerate(wafers.columns[random_50_sensors_idx]):\n",
        "  plt.subplot(60, 3, i+1)\n",
        "  sns.distplot(x = wafers[col], color= 'indianred')\n",
        "  plt.xlabel(col, weight='bold')\n",
        "  plt.tight_layout()\n",
        "  plt.show()"
      ],
      "metadata": {
        "colab": {
          "base_uri": "https://localhost:8080/",
          "height": 815
        },
        "id": "DAUhHn6u9xyQ",
        "outputId": "6f5fbbbf-103e-4da5-caab-8558701e5195"
      },
      "execution_count": 21,
      "outputs": [
        {
          "output_type": "display_data",
          "data": {
            "text/plain": [
              "<Figure size 1500x10000 with 1 Axes>"
            ],
            "image/png": "[encoded data removed]"
          },
          "metadata": {}
        },
        {
          "output_type": "display_data",
          "data": {
            "text/plain": [
              "<Figure size 640x480 with 1 Axes>"
            ],
            "image/png": "[encoded data removed]"
          },
          "metadata": {}
        },
        {
          "output_type": "display_data",
          "data": {
            "text/plain": [
              "<Figure size 640x480 with 1 Axes>"
            ],
            "image/png": "[encoded data removed]"
          },
          "metadata": {}
        },
        {
          "output_type": "display_data",
          "data": {
            "text/plain": [
              "<Figure size 640x480 with 1 Axes>"
            ],
            "image/png": "[encoded data removed]"
          },
          "metadata": {}
        },
        {
          "output_type": "display_data",
          "data": {
            "text/plain": [
              "<Figure size 640x480 with 1 Axes>"
            ],
            "image/png": "[encoded data removed]"
          },
          "metadata": {}
        },
        {
          "output_type": "display_data",
          "data": {
            "text/plain": [
              "<Figure size 640x480 with 1 Axes>"
            ],
            "image/png": "[encoded data removed]"
          },
          "metadata": {}
        },
        {
          "output_type": "display_data",
          "data": {
            "text/plain": [
              "<Figure size 640x480 with 1 Axes>"
            ],
            "image/png": "[encoded data removed]"
          },
          "metadata": {}
        },
        {
          "output_type": "display_data",
          "data": {
            "text/plain": [
              "<Figure size 640x480 with 1 Axes>"
            ],
            "image/png": "[encoded data removed]"
          },
          "metadata": {}
        },
        {
          "output_type": "display_data",
          "data": {
            "text/plain": [
              "<Figure size 640x480 with 1 Axes>"
            ],
            "image/png": "[encoded data removed]"
          },
          "metadata": {}
        },
        {
          "output_type": "display_data",
          "data": {
            "text/plain": [
              "<Figure size 640x480 with 1 Axes>"
            ],
            "image/png": "[encoded data removed]"
          },
          "metadata": {}
        },
        {
          "output_type": "display_data",
          "data": {
            "text/plain": [
              "<Figure size 640x480 with 1 Axes>"
            ],
            "image/png": "[encoded data removed]"
          },
          "metadata": {}
        },
        {
          "output_type": "display_data",
          "data": {
            "text/plain": [
              "<Figure size 640x480 with 1 Axes>"
            ],
            "image/png": "[encoded data removed]"
          },
          "metadata": {}
        },
        {
          "output_type": "display_data",
          "data": {
            "text/plain": [
              "<Figure size 640x480 with 1 Axes>"
            ],
            "image/png": "[encoded data removed]"
          },
          "metadata": {}
        },
        {
          "output_type": "display_data",
          "data": {
            "text/plain": [
              "<Figure size 640x480 with 1 Axes>"
            ],
            "image/png": "[encoded data removed]"
          },
          "metadata": {}
        },
        {
          "output_type": "display_data",
          "data": {
            "text/plain": [
              "<Figure size 640x480 with 1 Axes>"
            ],
            "image/png": "[encoded data removed]"
          },
          "metadata": {}
        },
        {
          "output_type": "display_data",
          "data": {
            "text/plain": [
              "<Figure size 640x480 with 1 Axes>"
            ],
            "image/png": "[encoded data removed]"
          },
          "metadata": {}
        },
        {
          "output_type": "display_data",
          "data": {
            "text/plain": [
              "<Figure size 640x480 with 1 Axes>"
            ],
            "image/png": "[encoded data removed]"
          },
          "metadata": {}
        },
        {
          "output_type": "display_data",
          "data": {
            "text/plain": [
              "<Figure size 640x480 with 1 Axes>"
            ],
            "image/png": "[encoded data removed]"
          },
          "metadata": {}
        },
        {
          "output_type": "display_data",
          "data": {
            "text/plain": [
              "<Figure size 640x480 with 1 Axes>"
            ],
            "image/png": "[encoded data removed]"
          },
          "metadata": {}
        },
        {
          "output_type": "display_data",
          "data": {
            "text/plain": [
              "<Figure size 640x480 with 1 Axes>"
            ],
            "image/png": "[encoded data removed]"
          },
          "metadata": {}
        },
        {
          "output_type": "display_data",
          "data": {
            "text/plain": [
              "<Figure size 640x480 with 1 Axes>"
            ],
            "image/png": "[encoded data removed]"
          },
          "metadata": {}
        },
        {
          "output_type": "display_data",
          "data": {
            "text/plain": [
              "<Figure size 640x480 with 1 Axes>"
            ],
            "image/png": "[encoded data removed]"
          },
          "metadata": {}
        },
        {
          "output_type": "display_data",
          "data": {
            "text/plain": [
              "<Figure size 640x480 with 1 Axes>"
            ],
            "image/png": "[encoded data removed]"
          },
          "metadata": {}
        },
        {
          "output_type": "display_data",
          "data": {
            "text/plain": [
              "<Figure size 640x480 with 1 Axes>"
            ],
            "image/png": "[encoded data removed]"
          },
          "metadata": {}
        },
        {
          "output_type": "display_data",
          "data": {
            "text/plain": [
              "<Figure size 640x480 with 1 Axes>"
            ],
            "image/png": "[encoded data removed]"
          },
          "metadata": {}
        },
        {
          "output_type": "display_data",
          "data": {
            "text/plain": [
              "<Figure size 640x480 with 1 Axes>"
            ],
            "image/png": "[encoded data removed]"
          },
          "metadata": {}
        },
        {
          "output_type": "display_data",
          "data": {
            "text/plain": [
              "<Figure size 640x480 with 1 Axes>"
            ],
            "image/png": "[encoded data removed]"
          },
          "metadata": {}
        },
        {
          "output_type": "display_data",
          "data": {
            "text/plain": [
              "<Figure size 640x480 with 1 Axes>"
            ],
            "image/png": "[encoded data removed]"
          },
          "metadata": {}
        },
        {
          "output_type": "display_data",
          "data": {
            "text/plain": [
              "<Figure size 640x480 with 1 Axes>"
            ],
            "image/png": "[encoded data removed]"
          },
          "metadata": {}
        },
        {
          "output_type": "display_data",
          "data": {
            "text/plain": [
              "<Figure size 640x480 with 1 Axes>"
            ],
            "image/png": "[encoded data removed]"
          },
          "metadata": {}
        },
        {
          "output_type": "display_data",
          "data": {
            "text/plain": [
              "<Figure size 640x480 with 1 Axes>"
            ],
            "image/png": "[encoded data removed]"
          },
          "metadata": {}
        },
        {
          "output_type": "display_data",
          "data": {
            "text/plain": [
              "<Figure size 640x480 with 1 Axes>"
            ],
            "image/png": "[encoded data removed]"
          },
          "metadata": {}
        },
        {
          "output_type": "display_data",
          "data": {
            "text/plain": [
              "<Figure size 640x480 with 1 Axes>"
            ],
            "image/png": "[encoded data removed]"
          },
          "metadata": {}
        },
        {
          "output_type": "display_data",
          "data": {
            "text/plain": [
              "<Figure size 640x480 with 1 Axes>"
            ],
            "image/png": "[encoded data removed]"
          },
          "metadata": {}
        },
        {
          "output_type": "display_data",
          "data": {
            "text/plain": [
              "<Figure size 640x480 with 1 Axes>"
            ],
            "image/png": "[encoded data removed]"
          },
          "metadata": {}
        },
        {
          "output_type": "display_data",
          "data": {
            "text/plain": [
              "<Figure size 640x480 with 1 Axes>"
            ],
            "image/png": "[encoded data removed]"
          },
          "metadata": {}
        },
        {
          "output_type": "display_data",
          "data": {
            "text/plain": [
              "<Figure size 640x480 with 1 Axes>"
            ],
            "image/png": "[encoded data removed]"
          },
          "metadata": {}
        },
        {
          "output_type": "display_data",
          "data": {
            "text/plain": [
              "<Figure size 640x480 with 1 Axes>"
            ],
            "image/png": "[encoded data removed]"
          },
          "metadata": {}
        },
        {
          "output_type": "display_data",
          "data": {
            "text/plain": [
              "<Figure size 640x480 with 1 Axes>"
            ],
            "image/png": "[encoded data removed]"
          },
          "metadata": {}
        },
        {
          "output_type": "display_data",
          "data": {
            "text/plain": [
              "<Figure size 640x480 with 1 Axes>"
            ],
            "image/png": "[encoded data removed]"
          },
          "metadata": {}
        },
        {
          "output_type": "display_data",
          "data": {
            "text/plain": [
              "<Figure size 640x480 with 1 Axes>"
            ],
            "image/png": "[encoded data removed]"
          },
          "metadata": {}
        },
        {
          "output_type": "display_data",
          "data": {
            "text/plain": [
              "<Figure size 640x480 with 1 Axes>"
            ],
            "image/png": "[encoded data removed]"
          },
          "metadata": {}
        },
        {
          "output_type": "display_data",
          "data": {
            "text/plain": [
              "<Figure size 640x480 with 1 Axes>"
            ],
            "image/png": "[encoded data removed]"
          },
          "metadata": {}
        },
        {
          "output_type": "display_data",
          "data": {
            "text/plain": [
              "<Figure size 640x480 with 1 Axes>"
            ],
            "image/png": "[encoded data removed]"
          },
          "metadata": {}
        },
        {
          "output_type": "display_data",
          "data": {
            "text/plain": [
              "<Figure size 640x480 with 1 Axes>"
            ],
            "image/png": "[encoded data removed]"
          },
          "metadata": {}
        },
        {
          "output_type": "display_data",
          "data": {
            "text/plain": [
              "<Figure size 640x480 with 1 Axes>"
            ],
            "image/png": "[encoded data removed]"
          },
          "metadata": {}
        }
      ]
    },
    {
      "cell_type": "markdown",
      "source": [
        "Insight:\n",
        "\n",
        "A pretty good amount of them (either first 50 or random 50) (have 0 standard deviation) or have left and right skewness. It is possible to analyze each feature and deal with its outliers individually thus we ought to depend upon the scaling.\n",
        "\n",
        "For the feature with 0 standard deviations, we can straight away drop them, and for others that do have outliers we gotta go ahead with the robust scaling."
      ],
      "metadata": {
        "id": "vxBIpRZx_yE8"
      }
    },
    {
      "cell_type": "code",
      "source": [
        "def get_cols_with_zero_std_dev(df:pd.DataFrame):\n",
        "  \"\"\"\n",
        "  return a list of columns name who are having zero standerd deviation\n",
        "  \"\"\"\n",
        "  cols_to_drop = []\n",
        "  num_cols = [col for col in df.columns if df[col].dtype != \"O\"]\n",
        "  for col in num_cols:\n",
        "    if df[col].std() == 0:\n",
        "      cols_to_drop.append(col)\n",
        "  return cols_to_drop\n",
        "\n",
        "def get_redundant_cols(df: pd.DataFrame, missing_thresh = .7):\n",
        "  \"\"\"\n",
        "  returns a list of columns having missing values more than certain thresh\n",
        "  \"\"\"\n",
        "  cols_missing_ratios = df.isna().sum().div(df.shape[0])\n",
        "  cols_to_drop = list(cols_missing_ratios[cols_missing_ratios > missing_thresh].index)\n",
        "  return cols_to_drop"
      ],
      "metadata": {
        "id": "FF698TG9CS-Q"
      },
      "execution_count": 22,
      "outputs": []
    },
    {
      "cell_type": "code",
      "source": [
        "wafers.dtypes"
      ],
      "metadata": {
        "colab": {
          "base_uri": "https://localhost:8080/",
          "height": 458
        },
        "id": "qkTb7tQTFv80",
        "outputId": "066d4323-5dcd-42d1-e74a-3261d441d414"
      },
      "execution_count": 23,
      "outputs": [
        {
          "output_type": "execute_result",
          "data": {
            "text/plain": [
              "wafer          object\n",
              "Sensor-1      float64\n",
              "Sensor-2      float64\n",
              "Sensor-3      float64\n",
              "Sensor-4      float64\n",
              "               ...   \n",
              "Sensor-587    float64\n",
              "Sensor-588    float64\n",
              "Sensor-589    float64\n",
              "Sensor-590    float64\n",
              "Good/Bad        int64\n",
              "Length: 592, dtype: object"
            ],
            "text/html": [
              "<div>\n",
              "<style scoped>\n",
              "    .dataframe tbody tr th:only-of-type {\n",
              "        vertical-align: middle;\n",
              "    }\n",
              "\n",
              "    .dataframe tbody tr th {\n",
              "        vertical-align: top;\n",
              "    }\n",
              "\n",
              "    .dataframe thead th {\n",
              "        text-align: right;\n",
              "    }\n",
              "</style>\n",
              "<table border=\"1\" class=\"dataframe\">\n",
              "  <thead>\n",
              "    <tr style=\"text-align: right;\">\n",
              "      <th></th>\n",
              "      <th>0</th>\n",
              "    </tr>\n",
              "  </thead>\n",
              "  <tbody>\n",
              "    <tr>\n",
              "      <th>wafer</th>\n",
              "      <td>object</td>\n",
              "    </tr>\n",
              "    <tr>\n",
              "      <th>Sensor-1</th>\n",
              "      <td>float64</td>\n",
              "    </tr>\n",
              "    <tr>\n",
              "      <th>Sensor-2</th>\n",
              "      <td>float64</td>\n",
              "    </tr>\n",
              "    <tr>\n",
              "      <th>Sensor-3</th>\n",
              "      <td>float64</td>\n",
              "    </tr>\n",
              "    <tr>\n",
              "      <th>Sensor-4</th>\n",
              "      <td>float64</td>\n",
              "    </tr>\n",
              "    <tr>\n",
              "      <th>...</th>\n",
              "      <td>...</td>\n",
              "    </tr>\n",
              "    <tr>\n",
              "      <th>Sensor-587</th>\n",
              "      <td>float64</td>\n",
              "    </tr>\n",
              "    <tr>\n",
              "      <th>Sensor-588</th>\n",
              "      <td>float64</td>\n",
              "    </tr>\n",
              "    <tr>\n",
              "      <th>Sensor-589</th>\n",
              "      <td>float64</td>\n",
              "    </tr>\n",
              "    <tr>\n",
              "      <th>Sensor-590</th>\n",
              "      <td>float64</td>\n",
              "    </tr>\n",
              "    <tr>\n",
              "      <th>Good/Bad</th>\n",
              "      <td>int64</td>\n",
              "    </tr>\n",
              "  </tbody>\n",
              "</table>\n",
              "<p>592 rows × 1 columns</p>\n",
              "</div><br><label><b>dtype:</b> object</label>"
            ]
          },
          "metadata": {},
          "execution_count": 23
        }
      ]
    },
    {
      "cell_type": "code",
      "source": [
        "#columns w missing valus more than 70%\n",
        "cols_to_drop_1 = get_redundant_cols(wafers, missing_thresh = .7)\n",
        "cols_to_drop_1"
      ],
      "metadata": {
        "colab": {
          "base_uri": "https://localhost:8080/"
        },
        "id": "ph0ZE7_8KxnQ",
        "outputId": "28f5b983-adfd-48f7-9a81-43b0b4c2cd58"
      },
      "execution_count": 24,
      "outputs": [
        {
          "output_type": "execute_result",
          "data": {
            "text/plain": [
              "['Sensor-158', 'Sensor-159', 'Sensor-293', 'Sensor-294']"
            ]
          },
          "metadata": {},
          "execution_count": 24
        }
      ]
    },
    {
      "cell_type": "code",
      "source": [
        "#Columns 0 standerd Deviation\n",
        "\n",
        "cols_to_drop_2 = get_cols_with_zero_std_dev(df=wafers)\n",
        "cols_to_drop_2.append(\"wafer\")\n",
        "cols_to_drop_2"
      ],
      "metadata": {
        "colab": {
          "base_uri": "https://localhost:8080/"
        },
        "id": "WHJcrMViL-oh",
        "outputId": "5eb5dc6c-6608-4db1-909d-044a9ace47f9"
      },
      "execution_count": 25,
      "outputs": [
        {
          "output_type": "execute_result",
          "data": {
            "text/plain": [
              "['Sensor-6',\n",
              " 'Sensor-14',\n",
              " 'Sensor-43',\n",
              " 'Sensor-50',\n",
              " 'Sensor-53',\n",
              " 'Sensor-70',\n",
              " 'Sensor-75',\n",
              " 'Sensor-98',\n",
              " 'Sensor-142',\n",
              " 'Sensor-150',\n",
              " 'Sensor-179',\n",
              " 'Sensor-180',\n",
              " 'Sensor-187',\n",
              " 'Sensor-190',\n",
              " 'Sensor-191',\n",
              " 'Sensor-192',\n",
              " 'Sensor-193',\n",
              " 'Sensor-194',\n",
              " 'Sensor-195',\n",
              " 'Sensor-207',\n",
              " 'Sensor-210',\n",
              " 'Sensor-227',\n",
              " 'Sensor-230',\n",
              " 'Sensor-231',\n",
              " 'Sensor-232',\n",
              " 'Sensor-233',\n",
              " 'Sensor-234',\n",
              " 'Sensor-235',\n",
              " 'Sensor-236',\n",
              " 'Sensor-237',\n",
              " 'Sensor-238',\n",
              " 'Sensor-241',\n",
              " 'Sensor-242',\n",
              " 'Sensor-243',\n",
              " 'Sensor-244',\n",
              " 'Sensor-257',\n",
              " 'Sensor-258',\n",
              " 'Sensor-259',\n",
              " 'Sensor-260',\n",
              " 'Sensor-261',\n",
              " 'Sensor-262',\n",
              " 'Sensor-263',\n",
              " 'Sensor-264',\n",
              " 'Sensor-265',\n",
              " 'Sensor-266',\n",
              " 'Sensor-267',\n",
              " 'Sensor-277',\n",
              " 'Sensor-285',\n",
              " 'Sensor-314',\n",
              " 'Sensor-315',\n",
              " 'Sensor-316',\n",
              " 'Sensor-323',\n",
              " 'Sensor-326',\n",
              " 'Sensor-327',\n",
              " 'Sensor-328',\n",
              " 'Sensor-329',\n",
              " 'Sensor-330',\n",
              " 'Sensor-331',\n",
              " 'Sensor-343',\n",
              " 'Sensor-348',\n",
              " 'Sensor-365',\n",
              " 'Sensor-370',\n",
              " 'Sensor-371',\n",
              " 'Sensor-372',\n",
              " 'Sensor-373',\n",
              " 'Sensor-374',\n",
              " 'Sensor-375',\n",
              " 'Sensor-376',\n",
              " 'Sensor-379',\n",
              " 'Sensor-380',\n",
              " 'Sensor-381',\n",
              " 'Sensor-382',\n",
              " 'Sensor-395',\n",
              " 'Sensor-396',\n",
              " 'Sensor-397',\n",
              " 'Sensor-398',\n",
              " 'Sensor-399',\n",
              " 'Sensor-400',\n",
              " 'Sensor-401',\n",
              " 'Sensor-402',\n",
              " 'Sensor-403',\n",
              " 'Sensor-404',\n",
              " 'Sensor-405',\n",
              " 'Sensor-415',\n",
              " 'Sensor-423',\n",
              " 'Sensor-450',\n",
              " 'Sensor-451',\n",
              " 'Sensor-452',\n",
              " 'Sensor-459',\n",
              " 'Sensor-462',\n",
              " 'Sensor-463',\n",
              " 'Sensor-464',\n",
              " 'Sensor-465',\n",
              " 'Sensor-466',\n",
              " 'Sensor-467',\n",
              " 'Sensor-479',\n",
              " 'Sensor-482',\n",
              " 'Sensor-499',\n",
              " 'Sensor-502',\n",
              " 'Sensor-503',\n",
              " 'Sensor-504',\n",
              " 'Sensor-505',\n",
              " 'Sensor-506',\n",
              " 'Sensor-507',\n",
              " 'Sensor-508',\n",
              " 'Sensor-509',\n",
              " 'Sensor-510',\n",
              " 'Sensor-513',\n",
              " 'Sensor-514',\n",
              " 'Sensor-515',\n",
              " 'Sensor-516',\n",
              " 'Sensor-529',\n",
              " 'Sensor-530',\n",
              " 'Sensor-531',\n",
              " 'Sensor-532',\n",
              " 'Sensor-533',\n",
              " 'Sensor-534',\n",
              " 'Sensor-535',\n",
              " 'Sensor-536',\n",
              " 'Sensor-537',\n",
              " 'Sensor-538',\n",
              " 'Sensor-539',\n",
              " 'wafer']"
            ]
          },
          "metadata": {},
          "execution_count": 25
        }
      ]
    },
    {
      "cell_type": "code",
      "source": [
        "## columns to drop\n",
        "cols_to_drop = cols_to_drop_1 + cols_to_drop_2\n",
        "cols_to_drop"
      ],
      "metadata": {
        "colab": {
          "base_uri": "https://localhost:8080/"
        },
        "id": "RBncsEoAM9Lw",
        "outputId": "3192a36a-bbd4-4878-a9d2-63b35142ab5d"
      },
      "execution_count": 26,
      "outputs": [
        {
          "output_type": "execute_result",
          "data": {
            "text/plain": [
              "['Sensor-158',\n",
              " 'Sensor-159',\n",
              " 'Sensor-293',\n",
              " 'Sensor-294',\n",
              " 'Sensor-6',\n",
              " 'Sensor-14',\n",
              " 'Sensor-43',\n",
              " 'Sensor-50',\n",
              " 'Sensor-53',\n",
              " 'Sensor-70',\n",
              " 'Sensor-75',\n",
              " 'Sensor-98',\n",
              " 'Sensor-142',\n",
              " 'Sensor-150',\n",
              " 'Sensor-179',\n",
              " 'Sensor-180',\n",
              " 'Sensor-187',\n",
              " 'Sensor-190',\n",
              " 'Sensor-191',\n",
              " 'Sensor-192',\n",
              " 'Sensor-193',\n",
              " 'Sensor-194',\n",
              " 'Sensor-195',\n",
              " 'Sensor-207',\n",
              " 'Sensor-210',\n",
              " 'Sensor-227',\n",
              " 'Sensor-230',\n",
              " 'Sensor-231',\n",
              " 'Sensor-232',\n",
              " 'Sensor-233',\n",
              " 'Sensor-234',\n",
              " 'Sensor-235',\n",
              " 'Sensor-236',\n",
              " 'Sensor-237',\n",
              " 'Sensor-238',\n",
              " 'Sensor-241',\n",
              " 'Sensor-242',\n",
              " 'Sensor-243',\n",
              " 'Sensor-244',\n",
              " 'Sensor-257',\n",
              " 'Sensor-258',\n",
              " 'Sensor-259',\n",
              " 'Sensor-260',\n",
              " 'Sensor-261',\n",
              " 'Sensor-262',\n",
              " 'Sensor-263',\n",
              " 'Sensor-264',\n",
              " 'Sensor-265',\n",
              " 'Sensor-266',\n",
              " 'Sensor-267',\n",
              " 'Sensor-277',\n",
              " 'Sensor-285',\n",
              " 'Sensor-314',\n",
              " 'Sensor-315',\n",
              " 'Sensor-316',\n",
              " 'Sensor-323',\n",
              " 'Sensor-326',\n",
              " 'Sensor-327',\n",
              " 'Sensor-328',\n",
              " 'Sensor-329',\n",
              " 'Sensor-330',\n",
              " 'Sensor-331',\n",
              " 'Sensor-343',\n",
              " 'Sensor-348',\n",
              " 'Sensor-365',\n",
              " 'Sensor-370',\n",
              " 'Sensor-371',\n",
              " 'Sensor-372',\n",
              " 'Sensor-373',\n",
              " 'Sensor-374',\n",
              " 'Sensor-375',\n",
              " 'Sensor-376',\n",
              " 'Sensor-379',\n",
              " 'Sensor-380',\n",
              " 'Sensor-381',\n",
              " 'Sensor-382',\n",
              " 'Sensor-395',\n",
              " 'Sensor-396',\n",
              " 'Sensor-397',\n",
              " 'Sensor-398',\n",
              " 'Sensor-399',\n",
              " 'Sensor-400',\n",
              " 'Sensor-401',\n",
              " 'Sensor-402',\n",
              " 'Sensor-403',\n",
              " 'Sensor-404',\n",
              " 'Sensor-405',\n",
              " 'Sensor-415',\n",
              " 'Sensor-423',\n",
              " 'Sensor-450',\n",
              " 'Sensor-451',\n",
              " 'Sensor-452',\n",
              " 'Sensor-459',\n",
              " 'Sensor-462',\n",
              " 'Sensor-463',\n",
              " 'Sensor-464',\n",
              " 'Sensor-465',\n",
              " 'Sensor-466',\n",
              " 'Sensor-467',\n",
              " 'Sensor-479',\n",
              " 'Sensor-482',\n",
              " 'Sensor-499',\n",
              " 'Sensor-502',\n",
              " 'Sensor-503',\n",
              " 'Sensor-504',\n",
              " 'Sensor-505',\n",
              " 'Sensor-506',\n",
              " 'Sensor-507',\n",
              " 'Sensor-508',\n",
              " 'Sensor-509',\n",
              " 'Sensor-510',\n",
              " 'Sensor-513',\n",
              " 'Sensor-514',\n",
              " 'Sensor-515',\n",
              " 'Sensor-516',\n",
              " 'Sensor-529',\n",
              " 'Sensor-530',\n",
              " 'Sensor-531',\n",
              " 'Sensor-532',\n",
              " 'Sensor-533',\n",
              " 'Sensor-534',\n",
              " 'Sensor-535',\n",
              " 'Sensor-536',\n",
              " 'Sensor-537',\n",
              " 'Sensor-538',\n",
              " 'Sensor-539',\n",
              " 'wafer']"
            ]
          },
          "metadata": {},
          "execution_count": 26
        }
      ]
    },
    {
      "cell_type": "markdown",
      "source": [
        "Saperate Feature and Labels out:"
      ],
      "metadata": {
        "id": "741ANiQlN7Mz"
      }
    },
    {
      "cell_type": "code",
      "source": [
        "X, y = wafers.drop(cols_to_drop, axis=1), wafers[[\"Good/Bad\"]]"
      ],
      "metadata": {
        "id": "g5KoV2tjN_pB"
      },
      "execution_count": 27,
      "outputs": []
    },
    {
      "cell_type": "code",
      "source": [
        "print(\"shape of the feature now: \", X.shape)\n",
        "X.head()"
      ],
      "metadata": {
        "colab": {
          "base_uri": "https://localhost:8080/",
          "height": 290
        },
        "id": "5aabJD-MOSCq",
        "outputId": "52845d0a-8523-4f8b-a068-1cc26425d4c4"
      },
      "execution_count": 28,
      "outputs": [
        {
          "output_type": "stream",
          "name": "stdout",
          "text": [
            "shape of the feature now:  (80, 465)\n"
          ]
        },
        {
          "output_type": "execute_result",
          "data": {
            "text/plain": [
              "    Sensor-1  Sensor-2   Sensor-3   Sensor-4  Sensor-5  Sensor-7  Sensor-8  \\\n",
              "55       NaN   2532.45  2191.1333  2197.6570    1.1569   89.7222    0.1251   \n",
              "88   3221.21   2391.20  2189.9667  1046.6212    0.8662  102.3622    0.1208   \n",
              "26   2951.85   2525.00  2189.5777  1320.3197    1.3459  100.7744    0.1234   \n",
              "42   2982.07   2447.06  2199.6334  1242.8420    1.4083   99.2178    0.1221   \n",
              "69   3058.08   2524.60  2192.3778  1110.5453    0.8147   99.2922    0.1226   \n",
              "\n",
              "    Sensor-9  Sensor-10  Sensor-11  ...  Sensor-582  Sensor-583  Sensor-584  \\\n",
              "55    1.5762     0.0028    -0.0066  ...         NaN      0.4936      0.0113   \n",
              "88    1.4756    -0.0025     0.0025  ...         NaN      0.4940      0.0123   \n",
              "26    1.5590    -0.0032     0.0135  ...     53.8577      0.5025      0.0178   \n",
              "42    1.4542     0.0142    -0.0064  ...         NaN      0.4993      0.0151   \n",
              "69    1.4958     0.0004     0.0037  ...     24.6547      0.4974      0.0171   \n",
              "\n",
              "    Sensor-585  Sensor-586  Sensor-587  Sensor-588  Sensor-589  Sensor-590  \\\n",
              "55      0.0033      2.2874      0.0133      0.0139      0.0038    104.3034   \n",
              "88      0.0033      2.4860      0.0280      0.0078      0.0022     27.7601   \n",
              "26      0.0045      3.5361      0.0286      0.0154      0.0056     53.8577   \n",
              "42      0.0038      3.0214      0.0117      0.0262      0.0089    223.1018   \n",
              "69      0.0040      3.4352      0.0218      0.0054      0.0020     24.6547   \n",
              "\n",
              "    Good/Bad  \n",
              "55        -1  \n",
              "88        -1  \n",
              "26        -1  \n",
              "42        -1  \n",
              "69        -1  \n",
              "\n",
              "[5 rows x 465 columns]"
            ],
            "text/html": [
              "\n",
              "  <div id=\"df-469b2f66-da17-4b62-be1b-c148b00f35f8\" class=\"colab-df-container\">\n",
              "    <div>\n",
              "<style scoped>\n",
              "    .dataframe tbody tr th:only-of-type {\n",
              "        vertical-align: middle;\n",
              "    }\n",
              "\n",
              "    .dataframe tbody tr th {\n",
              "        vertical-align: top;\n",
              "    }\n",
              "\n",
              "    .dataframe thead th {\n",
              "        text-align: right;\n",
              "    }\n",
              "</style>\n",
              "<table border=\"1\" class=\"dataframe\">\n",
              "  <thead>\n",
              "    <tr style=\"text-align: right;\">\n",
              "      <th></th>\n",
              "      <th>Sensor-1</th>\n",
              "      <th>Sensor-2</th>\n",
              "      <th>Sensor-3</th>\n",
              "      <th>Sensor-4</th>\n",
              "      <th>Sensor-5</th>\n",
              "      <th>Sensor-7</th>\n",
              "      <th>Sensor-8</th>\n",
              "      <th>Sensor-9</th>\n",
              "      <th>Sensor-10</th>\n",
              "      <th>Sensor-11</th>\n",
              "      <th>...</th>\n",
              "      <th>Sensor-582</th>\n",
              "      <th>Sensor-583</th>\n",
              "      <th>Sensor-584</th>\n",
              "      <th>Sensor-585</th>\n",
              "      <th>Sensor-586</th>\n",
              "      <th>Sensor-587</th>\n",
              "      <th>Sensor-588</th>\n",
              "      <th>Sensor-589</th>\n",
              "      <th>Sensor-590</th>\n",
              "      <th>Good/Bad</th>\n",
              "    </tr>\n",
              "  </thead>\n",
              "  <tbody>\n",
              "    <tr>\n",
              "      <th>55</th>\n",
              "      <td>NaN</td>\n",
              "      <td>2532.45</td>\n",
              "      <td>2191.1333</td>\n",
              "      <td>2197.6570</td>\n",
              "      <td>1.1569</td>\n",
              "      <td>89.7222</td>\n",
              "      <td>0.1251</td>\n",
              "      <td>1.5762</td>\n",
              "      <td>0.0028</td>\n",
              "      <td>-0.0066</td>\n",
              "      <td>...</td>\n",
              "      <td>NaN</td>\n",
              "      <td>0.4936</td>\n",
              "      <td>0.0113</td>\n",
              "      <td>0.0033</td>\n",
              "      <td>2.2874</td>\n",
              "      <td>0.0133</td>\n",
              "      <td>0.0139</td>\n",
              "      <td>0.0038</td>\n",
              "      <td>104.3034</td>\n",
              "      <td>-1</td>\n",
              "    </tr>\n",
              "    <tr>\n",
              "      <th>88</th>\n",
              "      <td>3221.21</td>\n",
              "      <td>2391.20</td>\n",
              "      <td>2189.9667</td>\n",
              "      <td>1046.6212</td>\n",
              "      <td>0.8662</td>\n",
              "      <td>102.3622</td>\n",
              "      <td>0.1208</td>\n",
              "      <td>1.4756</td>\n",
              "      <td>-0.0025</td>\n",
              "      <td>0.0025</td>\n",
              "      <td>...</td>\n",
              "      <td>NaN</td>\n",
              "      <td>0.4940</td>\n",
              "      <td>0.0123</td>\n",
              "      <td>0.0033</td>\n",
              "      <td>2.4860</td>\n",
              "      <td>0.0280</td>\n",
              "      <td>0.0078</td>\n",
              "      <td>0.0022</td>\n",
              "      <td>27.7601</td>\n",
              "      <td>-1</td>\n",
              "    </tr>\n",
              "    <tr>\n",
              "      <th>26</th>\n",
              "      <td>2951.85</td>\n",
              "      <td>2525.00</td>\n",
              "      <td>2189.5777</td>\n",
              "      <td>1320.3197</td>\n",
              "      <td>1.3459</td>\n",
              "      <td>100.7744</td>\n",
              "      <td>0.1234</td>\n",
              "      <td>1.5590</td>\n",
              "      <td>-0.0032</td>\n",
              "      <td>0.0135</td>\n",
              "      <td>...</td>\n",
              "      <td>53.8577</td>\n",
              "      <td>0.5025</td>\n",
              "      <td>0.0178</td>\n",
              "      <td>0.0045</td>\n",
              "      <td>3.5361</td>\n",
              "      <td>0.0286</td>\n",
              "      <td>0.0154</td>\n",
              "      <td>0.0056</td>\n",
              "      <td>53.8577</td>\n",
              "      <td>-1</td>\n",
              "    </tr>\n",
              "    <tr>\n",
              "      <th>42</th>\n",
              "      <td>2982.07</td>\n",
              "      <td>2447.06</td>\n",
              "      <td>2199.6334</td>\n",
              "      <td>1242.8420</td>\n",
              "      <td>1.4083</td>\n",
              "      <td>99.2178</td>\n",
              "      <td>0.1221</td>\n",
              "      <td>1.4542</td>\n",
              "      <td>0.0142</td>\n",
              "      <td>-0.0064</td>\n",
              "      <td>...</td>\n",
              "      <td>NaN</td>\n",
              "      <td>0.4993</td>\n",
              "      <td>0.0151</td>\n",
              "      <td>0.0038</td>\n",
              "      <td>3.0214</td>\n",
              "      <td>0.0117</td>\n",
              "      <td>0.0262</td>\n",
              "      <td>0.0089</td>\n",
              "      <td>223.1018</td>\n",
              "      <td>-1</td>\n",
              "    </tr>\n",
              "    <tr>\n",
              "      <th>69</th>\n",
              "      <td>3058.08</td>\n",
              "      <td>2524.60</td>\n",
              "      <td>2192.3778</td>\n",
              "      <td>1110.5453</td>\n",
              "      <td>0.8147</td>\n",
              "      <td>99.2922</td>\n",
              "      <td>0.1226</td>\n",
              "      <td>1.4958</td>\n",
              "      <td>0.0004</td>\n",
              "      <td>0.0037</td>\n",
              "      <td>...</td>\n",
              "      <td>24.6547</td>\n",
              "      <td>0.4974</td>\n",
              "      <td>0.0171</td>\n",
              "      <td>0.0040</td>\n",
              "      <td>3.4352</td>\n",
              "      <td>0.0218</td>\n",
              "      <td>0.0054</td>\n",
              "      <td>0.0020</td>\n",
              "      <td>24.6547</td>\n",
              "      <td>-1</td>\n",
              "    </tr>\n",
              "  </tbody>\n",
              "</table>\n",
              "<p>5 rows × 465 columns</p>\n",
              "</div>\n",
              "    <div class=\"colab-df-buttons\">\n",
              "\n",
              "  <div class=\"colab-df-container\">\n",
              "    <button class=\"colab-df-convert\" onclick=\"convertToInteractive('df-469b2f66-da17-4b62-be1b-c148b00f35f8')\"\n",
              "            title=\"Convert this dataframe to an interactive table.\"\n",
              "            style=\"display:none;\">\n",
              "\n",
              "  <svg xmlns=\"http://www.w3.org/2000/svg\" height=\"24px\" viewBox=\"0 -960 960 960\">\n",
              "    <path d=\"M120-120v-720h720v720H120Zm60-500h600v-160H180v160Zm220 220h160v-160H400v160Zm0 220h160v-160H400v160ZM180-400h160v-160H180v160Zm440 0h160v-160H620v160ZM180-180h160v-160H180v160Zm440 0h160v-160H620v160Z\"/>\n",
              "  </svg>\n",
              "    </button>\n",
              "\n",
              "  <style>\n",
              "    .colab-df-container {\n",
              "      display:flex;\n",
              "      gap: 12px;\n",
              "    }\n",
              "\n",
              "    .colab-df-convert {\n",
              "      background-color: #E8F0FE;\n",
              "      border: none;\n",
              "      border-radius: 50%;\n",
              "      cursor: pointer;\n",
              "      display: none;\n",
              "      fill: #1967D2;\n",
              "      height: 32px;\n",
              "      padding: 0 0 0 0;\n",
              "      width: 32px;\n",
              "    }\n",
              "\n",
              "    .colab-df-convert:hover {\n",
              "      background-color: #E2EBFA;\n",
              "      box-shadow: 0px 1px 2px rgba(60, 64, 67, 0.3), 0px 1px 3px 1px rgba(60, 64, 67, 0.15);\n",
              "      fill: #174EA6;\n",
              "    }\n",
              "\n",
              "    .colab-df-buttons div {\n",
              "      margin-bottom: 4px;\n",
              "    }\n",
              "\n",
              "    [theme=dark] .colab-df-convert {\n",
              "      background-color: #3B4455;\n",
              "      fill: #D2E3FC;\n",
              "    }\n",
              "\n",
              "    [theme=dark] .colab-df-convert:hover {\n",
              "      background-color: #434B5C;\n",
              "      box-shadow: 0px 1px 3px 1px rgba(0, 0, 0, 0.15);\n",
              "      filter: drop-shadow(0px 1px 2px rgba(0, 0, 0, 0.3));\n",
              "      fill: #FFFFFF;\n",
              "    }\n",
              "  </style>\n",
              "\n",
              "    <script>\n",
              "      const buttonEl =\n",
              "        document.querySelector('#df-469b2f66-da17-4b62-be1b-c148b00f35f8 button.colab-df-convert');\n",
              "      buttonEl.style.display =\n",
              "        google.colab.kernel.accessAllowed ? 'block' : 'none';\n",
              "\n",
              "      async function convertToInteractive(key) {\n",
              "        const element = document.querySelector('#df-469b2f66-da17-4b62-be1b-c148b00f35f8');\n",
              "        const dataTable =\n",
              "          await google.colab.kernel.invokeFunction('convertToInteractive',\n",
              "                                                    [key], {});\n",
              "        if (!dataTable) return;\n",
              "\n",
              "        const docLinkHtml = 'Like what you see? Visit the ' +\n",
              "          '<a target=\"_blank\" href=https://colab.research.google.com/notebooks/data_table.ipynb>data table notebook</a>'\n",
              "          + ' to learn more about interactive tables.';\n",
              "        element.innerHTML = '';\n",
              "        dataTable['output_type'] = 'display_data';\n",
              "        await google.colab.output.renderOutput(dataTable, element);\n",
              "        const docLink = document.createElement('div');\n",
              "        docLink.innerHTML = docLinkHtml;\n",
              "        element.appendChild(docLink);\n",
              "      }\n",
              "    </script>\n",
              "  </div>\n",
              "\n",
              "\n",
              "<div id=\"df-99540110-8589-47dc-acce-306e23902ea3\">\n",
              "  <button class=\"colab-df-quickchart\" onclick=\"quickchart('df-99540110-8589-47dc-acce-306e23902ea3')\"\n",
              "            title=\"Suggest charts\"\n",
              "            style=\"display:none;\">\n",
              "\n",
              "<svg xmlns=\"http://www.w3.org/2000/svg\" height=\"24px\"viewBox=\"0 0 24 24\"\n",
              "     width=\"24px\">\n",
              "    <g>\n",
              "        <path d=\"M19 3H5c-1.1 0-2 .9-2 2v14c0 1.1.9 2 2 2h14c1.1 0 2-.9 2-2V5c0-1.1-.9-2-2-2zM9 17H7v-7h2v7zm4 0h-2V7h2v10zm4 0h-2v-4h2v4z\"/>\n",
              "    </g>\n",
              "</svg>\n",
              "  </button>\n",
              "\n",
              "<style>\n",
              "  .colab-df-quickchart {\n",
              "      --bg-color: #E8F0FE;\n",
              "      --fill-color: #1967D2;\n",
              "      --hover-bg-color: #E2EBFA;\n",
              "      --hover-fill-color: #174EA6;\n",
              "      --disabled-fill-color: #AAA;\n",
              "      --disabled-bg-color: #DDD;\n",
              "  }\n",
              "\n",
              "  [theme=dark] .colab-df-quickchart {\n",
              "      --bg-color: #3B4455;\n",
              "      --fill-color: #D2E3FC;\n",
              "      --hover-bg-color: #434B5C;\n",
              "      --hover-fill-color: #FFFFFF;\n",
              "      --disabled-bg-color: #3B4455;\n",
              "      --disabled-fill-color: #666;\n",
              "  }\n",
              "\n",
              "  .colab-df-quickchart {\n",
              "    background-color: var(--bg-color);\n",
              "    border: none;\n",
              "    border-radius: 50%;\n",
              "    cursor: pointer;\n",
              "    display: none;\n",
              "    fill: var(--fill-color);\n",
              "    height: 32px;\n",
              "    padding: 0;\n",
              "    width: 32px;\n",
              "  }\n",
              "\n",
              "  .colab-df-quickchart:hover {\n",
              "    background-color: var(--hover-bg-color);\n",
              "    box-shadow: 0 1px 2px rgba(60, 64, 67, 0.3), 0 1px 3px 1px rgba(60, 64, 67, 0.15);\n",
              "    fill: var(--button-hover-fill-color);\n",
              "  }\n",
              "\n",
              "  .colab-df-quickchart-complete:disabled,\n",
              "  .colab-df-quickchart-complete:disabled:hover {\n",
              "    background-color: var(--disabled-bg-color);\n",
              "    fill: var(--disabled-fill-color);\n",
              "    box-shadow: none;\n",
              "  }\n",
              "\n",
              "  .colab-df-spinner {\n",
              "    border: 2px solid var(--fill-color);\n",
              "    border-color: transparent;\n",
              "    border-bottom-color: var(--fill-color);\n",
              "    animation:\n",
              "      spin 1s steps(1) infinite;\n",
              "  }\n",
              "\n",
              "  @keyframes spin {\n",
              "    0% {\n",
              "      border-color: transparent;\n",
              "      border-bottom-color: var(--fill-color);\n",
              "      border-left-color: var(--fill-color);\n",
              "    }\n",
              "    20% {\n",
              "      border-color: transparent;\n",
              "      border-left-color: var(--fill-color);\n",
              "      border-top-color: var(--fill-color);\n",
              "    }\n",
              "    30% {\n",
              "      border-color: transparent;\n",
              "      border-left-color: var(--fill-color);\n",
              "      border-top-color: var(--fill-color);\n",
              "      border-right-color: var(--fill-color);\n",
              "    }\n",
              "    40% {\n",
              "      border-color: transparent;\n",
              "      border-right-color: var(--fill-color);\n",
              "      border-top-color: var(--fill-color);\n",
              "    }\n",
              "    60% {\n",
              "      border-color: transparent;\n",
              "      border-right-color: var(--fill-color);\n",
              "    }\n",
              "    80% {\n",
              "      border-color: transparent;\n",
              "      border-right-color: var(--fill-color);\n",
              "      border-bottom-color: var(--fill-color);\n",
              "    }\n",
              "    90% {\n",
              "      border-color: transparent;\n",
              "      border-bottom-color: var(--fill-color);\n",
              "    }\n",
              "  }\n",
              "</style>\n",
              "\n",
              "  <script>\n",
              "    async function quickchart(key) {\n",
              "      const quickchartButtonEl =\n",
              "        document.querySelector('#' + key + ' button');\n",
              "      quickchartButtonEl.disabled = true;  // To prevent multiple clicks.\n",
              "      quickchartButtonEl.classList.add('colab-df-spinner');\n",
              "      try {\n",
              "        const charts = await google.colab.kernel.invokeFunction(\n",
              "            'suggestCharts', [key], {});\n",
              "      } catch (error) {\n",
              "        console.error('Error during call to suggestCharts:', error);\n",
              "      }\n",
              "      quickchartButtonEl.classList.remove('colab-df-spinner');\n",
              "      quickchartButtonEl.classList.add('colab-df-quickchart-complete');\n",
              "    }\n",
              "    (() => {\n",
              "      let quickchartButtonEl =\n",
              "        document.querySelector('#df-99540110-8589-47dc-acce-306e23902ea3 button');\n",
              "      quickchartButtonEl.style.display =\n",
              "        google.colab.kernel.accessAllowed ? 'block' : 'none';\n",
              "    })();\n",
              "  </script>\n",
              "</div>\n",
              "\n",
              "    </div>\n",
              "  </div>\n"
            ],
            "application/vnd.google.colaboratory.intrinsic+json": {
              "type": "dataframe",
              "variable_name": "X"
            }
          },
          "metadata": {},
          "execution_count": 28
        }
      ]
    },
    {
      "cell_type": "code",
      "source": [
        "print(\"shape of the label: \", y.shape)\n",
        "y.head()"
      ],
      "metadata": {
        "colab": {
          "base_uri": "https://localhost:8080/",
          "height": 224
        },
        "id": "qTuVpBvTfG57",
        "outputId": "486337a2-8ff9-44af-ec80-c0176414cd69"
      },
      "execution_count": 29,
      "outputs": [
        {
          "output_type": "stream",
          "name": "stdout",
          "text": [
            "shape of the label:  (80, 1)\n"
          ]
        },
        {
          "output_type": "execute_result",
          "data": {
            "text/plain": [
              "    Good/Bad\n",
              "55        -1\n",
              "88        -1\n",
              "26        -1\n",
              "42        -1\n",
              "69        -1"
            ],
            "text/html": [
              "\n",
              "  <div id=\"df-81ed5123-b5de-4ce1-a9ef-6c1fa49e77ea\" class=\"colab-df-container\">\n",
              "    <div>\n",
              "<style scoped>\n",
              "    .dataframe tbody tr th:only-of-type {\n",
              "        vertical-align: middle;\n",
              "    }\n",
              "\n",
              "    .dataframe tbody tr th {\n",
              "        vertical-align: top;\n",
              "    }\n",
              "\n",
              "    .dataframe thead th {\n",
              "        text-align: right;\n",
              "    }\n",
              "</style>\n",
              "<table border=\"1\" class=\"dataframe\">\n",
              "  <thead>\n",
              "    <tr style=\"text-align: right;\">\n",
              "      <th></th>\n",
              "      <th>Good/Bad</th>\n",
              "    </tr>\n",
              "  </thead>\n",
              "  <tbody>\n",
              "    <tr>\n",
              "      <th>55</th>\n",
              "      <td>-1</td>\n",
              "    </tr>\n",
              "    <tr>\n",
              "      <th>88</th>\n",
              "      <td>-1</td>\n",
              "    </tr>\n",
              "    <tr>\n",
              "      <th>26</th>\n",
              "      <td>-1</td>\n",
              "    </tr>\n",
              "    <tr>\n",
              "      <th>42</th>\n",
              "      <td>-1</td>\n",
              "    </tr>\n",
              "    <tr>\n",
              "      <th>69</th>\n",
              "      <td>-1</td>\n",
              "    </tr>\n",
              "  </tbody>\n",
              "</table>\n",
              "</div>\n",
              "    <div class=\"colab-df-buttons\">\n",
              "\n",
              "  <div class=\"colab-df-container\">\n",
              "    <button class=\"colab-df-convert\" onclick=\"convertToInteractive('df-81ed5123-b5de-4ce1-a9ef-6c1fa49e77ea')\"\n",
              "            title=\"Convert this dataframe to an interactive table.\"\n",
              "            style=\"display:none;\">\n",
              "\n",
              "  <svg xmlns=\"http://www.w3.org/2000/svg\" height=\"24px\" viewBox=\"0 -960 960 960\">\n",
              "    <path d=\"M120-120v-720h720v720H120Zm60-500h600v-160H180v160Zm220 220h160v-160H400v160Zm0 220h160v-160H400v160ZM180-400h160v-160H180v160Zm440 0h160v-160H620v160ZM180-180h160v-160H180v160Zm440 0h160v-160H620v160Z\"/>\n",
              "  </svg>\n",
              "    </button>\n",
              "\n",
              "  <style>\n",
              "    .colab-df-container {\n",
              "      display:flex;\n",
              "      gap: 12px;\n",
              "    }\n",
              "\n",
              "    .colab-df-convert {\n",
              "      background-color: #E8F0FE;\n",
              "      border: none;\n",
              "      border-radius: 50%;\n",
              "      cursor: pointer;\n",
              "      display: none;\n",
              "      fill: #1967D2;\n",
              "      height: 32px;\n",
              "      padding: 0 0 0 0;\n",
              "      width: 32px;\n",
              "    }\n",
              "\n",
              "    .colab-df-convert:hover {\n",
              "      background-color: #E2EBFA;\n",
              "      box-shadow: 0px 1px 2px rgba(60, 64, 67, 0.3), 0px 1px 3px 1px rgba(60, 64, 67, 0.15);\n",
              "      fill: #174EA6;\n",
              "    }\n",
              "\n",
              "    .colab-df-buttons div {\n",
              "      margin-bottom: 4px;\n",
              "    }\n",
              "\n",
              "    [theme=dark] .colab-df-convert {\n",
              "      background-color: #3B4455;\n",
              "      fill: #D2E3FC;\n",
              "    }\n",
              "\n",
              "    [theme=dark] .colab-df-convert:hover {\n",
              "      background-color: #434B5C;\n",
              "      box-shadow: 0px 1px 3px 1px rgba(0, 0, 0, 0.15);\n",
              "      filter: drop-shadow(0px 1px 2px rgba(0, 0, 0, 0.3));\n",
              "      fill: #FFFFFF;\n",
              "    }\n",
              "  </style>\n",
              "\n",
              "    <script>\n",
              "      const buttonEl =\n",
              "        document.querySelector('#df-81ed5123-b5de-4ce1-a9ef-6c1fa49e77ea button.colab-df-convert');\n",
              "      buttonEl.style.display =\n",
              "        google.colab.kernel.accessAllowed ? 'block' : 'none';\n",
              "\n",
              "      async function convertToInteractive(key) {\n",
              "        const element = document.querySelector('#df-81ed5123-b5de-4ce1-a9ef-6c1fa49e77ea');\n",
              "        const dataTable =\n",
              "          await google.colab.kernel.invokeFunction('convertToInteractive',\n",
              "                                                    [key], {});\n",
              "        if (!dataTable) return;\n",
              "\n",
              "        const docLinkHtml = 'Like what you see? Visit the ' +\n",
              "          '<a target=\"_blank\" href=https://colab.research.google.com/notebooks/data_table.ipynb>data table notebook</a>'\n",
              "          + ' to learn more about interactive tables.';\n",
              "        element.innerHTML = '';\n",
              "        dataTable['output_type'] = 'display_data';\n",
              "        await google.colab.output.renderOutput(dataTable, element);\n",
              "        const docLink = document.createElement('div');\n",
              "        docLink.innerHTML = docLinkHtml;\n",
              "        element.appendChild(docLink);\n",
              "      }\n",
              "    </script>\n",
              "  </div>\n",
              "\n",
              "\n",
              "<div id=\"df-4b6704f7-a790-4450-824c-0e60a8768f43\">\n",
              "  <button class=\"colab-df-quickchart\" onclick=\"quickchart('df-4b6704f7-a790-4450-824c-0e60a8768f43')\"\n",
              "            title=\"Suggest charts\"\n",
              "            style=\"display:none;\">\n",
              "\n",
              "<svg xmlns=\"http://www.w3.org/2000/svg\" height=\"24px\"viewBox=\"0 0 24 24\"\n",
              "     width=\"24px\">\n",
              "    <g>\n",
              "        <path d=\"M19 3H5c-1.1 0-2 .9-2 2v14c0 1.1.9 2 2 2h14c1.1 0 2-.9 2-2V5c0-1.1-.9-2-2-2zM9 17H7v-7h2v7zm4 0h-2V7h2v10zm4 0h-2v-4h2v4z\"/>\n",
              "    </g>\n",
              "</svg>\n",
              "  </button>\n",
              "\n",
              "<style>\n",
              "  .colab-df-quickchart {\n",
              "      --bg-color: #E8F0FE;\n",
              "      --fill-color: #1967D2;\n",
              "      --hover-bg-color: #E2EBFA;\n",
              "      --hover-fill-color: #174EA6;\n",
              "      --disabled-fill-color: #AAA;\n",
              "      --disabled-bg-color: #DDD;\n",
              "  }\n",
              "\n",
              "  [theme=dark] .colab-df-quickchart {\n",
              "      --bg-color: #3B4455;\n",
              "      --fill-color: #D2E3FC;\n",
              "      --hover-bg-color: #434B5C;\n",
              "      --hover-fill-color: #FFFFFF;\n",
              "      --disabled-bg-color: #3B4455;\n",
              "      --disabled-fill-color: #666;\n",
              "  }\n",
              "\n",
              "  .colab-df-quickchart {\n",
              "    background-color: var(--bg-color);\n",
              "    border: none;\n",
              "    border-radius: 50%;\n",
              "    cursor: pointer;\n",
              "    display: none;\n",
              "    fill: var(--fill-color);\n",
              "    height: 32px;\n",
              "    padding: 0;\n",
              "    width: 32px;\n",
              "  }\n",
              "\n",
              "  .colab-df-quickchart:hover {\n",
              "    background-color: var(--hover-bg-color);\n",
              "    box-shadow: 0 1px 2px rgba(60, 64, 67, 0.3), 0 1px 3px 1px rgba(60, 64, 67, 0.15);\n",
              "    fill: var(--button-hover-fill-color);\n",
              "  }\n",
              "\n",
              "  .colab-df-quickchart-complete:disabled,\n",
              "  .colab-df-quickchart-complete:disabled:hover {\n",
              "    background-color: var(--disabled-bg-color);\n",
              "    fill: var(--disabled-fill-color);\n",
              "    box-shadow: none;\n",
              "  }\n",
              "\n",
              "  .colab-df-spinner {\n",
              "    border: 2px solid var(--fill-color);\n",
              "    border-color: transparent;\n",
              "    border-bottom-color: var(--fill-color);\n",
              "    animation:\n",
              "      spin 1s steps(1) infinite;\n",
              "  }\n",
              "\n",
              "  @keyframes spin {\n",
              "    0% {\n",
              "      border-color: transparent;\n",
              "      border-bottom-color: var(--fill-color);\n",
              "      border-left-color: var(--fill-color);\n",
              "    }\n",
              "    20% {\n",
              "      border-color: transparent;\n",
              "      border-left-color: var(--fill-color);\n",
              "      border-top-color: var(--fill-color);\n",
              "    }\n",
              "    30% {\n",
              "      border-color: transparent;\n",
              "      border-left-color: var(--fill-color);\n",
              "      border-top-color: var(--fill-color);\n",
              "      border-right-color: var(--fill-color);\n",
              "    }\n",
              "    40% {\n",
              "      border-color: transparent;\n",
              "      border-right-color: var(--fill-color);\n",
              "      border-top-color: var(--fill-color);\n",
              "    }\n",
              "    60% {\n",
              "      border-color: transparent;\n",
              "      border-right-color: var(--fill-color);\n",
              "    }\n",
              "    80% {\n",
              "      border-color: transparent;\n",
              "      border-right-color: var(--fill-color);\n",
              "      border-bottom-color: var(--fill-color);\n",
              "    }\n",
              "    90% {\n",
              "      border-color: transparent;\n",
              "      border-bottom-color: var(--fill-color);\n",
              "    }\n",
              "  }\n",
              "</style>\n",
              "\n",
              "  <script>\n",
              "    async function quickchart(key) {\n",
              "      const quickchartButtonEl =\n",
              "        document.querySelector('#' + key + ' button');\n",
              "      quickchartButtonEl.disabled = true;  // To prevent multiple clicks.\n",
              "      quickchartButtonEl.classList.add('colab-df-spinner');\n",
              "      try {\n",
              "        const charts = await google.colab.kernel.invokeFunction(\n",
              "            'suggestCharts', [key], {});\n",
              "      } catch (error) {\n",
              "        console.error('Error during call to suggestCharts:', error);\n",
              "      }\n",
              "      quickchartButtonEl.classList.remove('colab-df-spinner');\n",
              "      quickchartButtonEl.classList.add('colab-df-quickchart-complete');\n",
              "    }\n",
              "    (() => {\n",
              "      let quickchartButtonEl =\n",
              "        document.querySelector('#df-4b6704f7-a790-4450-824c-0e60a8768f43 button');\n",
              "      quickchartButtonEl.style.display =\n",
              "        google.colab.kernel.accessAllowed ? 'block' : 'none';\n",
              "    })();\n",
              "  </script>\n",
              "</div>\n",
              "\n",
              "    </div>\n",
              "  </div>\n"
            ],
            "application/vnd.google.colaboratory.intrinsic+json": {
              "type": "dataframe",
              "variable_name": "y",
              "summary": "{\n  \"name\": \"y\",\n  \"rows\": 80,\n  \"fields\": [\n    {\n      \"column\": \"Good/Bad\",\n      \"properties\": {\n        \"dtype\": \"number\",\n        \"std\": 0,\n        \"min\": -1,\n        \"max\": 1,\n        \"num_unique_values\": 2,\n        \"samples\": [\n          1,\n          -1\n        ],\n        \"semantic_type\": \"\",\n        \"description\": \"\"\n      }\n    }\n  ]\n}"
            }
          },
          "metadata": {},
          "execution_count": 29
        }
      ]
    },
    {
      "cell_type": "code",
      "source": [
        "from sklearn.pipeline import Pipeline\n",
        "from sklearn.impute import KNNImputer\n",
        "from sklearn.impute import SimpleImputer\n",
        "from sklearn.preprocessing import RobustScaler\n",
        "\n",
        "imputer = KNNImputer(n_neighbors=3)\n",
        "preprocessing_pipeline = Pipeline(\n",
        "    steps = [('Imputer', imputer), ('Scaler', RobustScaler())])\n",
        "preprocessing_pipeline"
      ],
      "metadata": {
        "id": "02rd83O4fQ2c",
        "colab": {
          "base_uri": "https://localhost:8080/",
          "height": 141
        },
        "outputId": "6d38af99-863a-4097-9ba6-408769f74444"
      },
      "execution_count": 33,
      "outputs": [
        {
          "output_type": "execute_result",
          "data": {
            "text/plain": [
              "Pipeline(steps=[('Imputer', KNNImputer(n_neighbors=3)),\n",
              "                ('Scaler', RobustScaler())])"
            ],
            "text/html": [
              "<style>#sk-container-id-1 {\n",
              "  /* Definition of color scheme common for light and dark mode */\n",
              "  --sklearn-color-text: black;\n",
              "  --sklearn-color-line: gray;\n",
              "  /* Definition of color scheme for unfitted estimators */\n",
              "  --sklearn-color-unfitted-level-0: #fff5e6;\n",
              "  --sklearn-color-unfitted-level-1: #f6e4d2;\n",
              "  --sklearn-color-unfitted-level-2: #ffe0b3;\n",
              "  --sklearn-color-unfitted-level-3: chocolate;\n",
              "  /* Definition of color scheme for fitted estimators */\n",
              "  --sklearn-color-fitted-level-0: #f0f8ff;\n",
              "  --sklearn-color-fitted-level-1: #d4ebff;\n",
              "  --sklearn-color-fitted-level-2: #b3dbfd;\n",
              "  --sklearn-color-fitted-level-3: cornflowerblue;\n",
              "\n",
              "  /* Specific color for light theme */\n",
              "  --sklearn-color-text-on-default-background: var(--sg-text-color, var(--theme-code-foreground, var(--jp-content-font-color1, black)));\n",
              "  --sklearn-color-background: var(--sg-background-color, var(--theme-background, var(--jp-layout-color0, white)));\n",
              "  --sklearn-color-border-box: var(--sg-text-color, var(--theme-code-foreground, var(--jp-content-font-color1, black)));\n",
              "  --sklearn-color-icon: #696969;\n",
              "\n",
              "  @media (prefers-color-scheme: dark) {\n",
              "    /* Redefinition of color scheme for dark theme */\n",
              "    --sklearn-color-text-on-default-background: var(--sg-text-color, var(--theme-code-foreground, var(--jp-content-font-color1, white)));\n",
              "    --sklearn-color-background: var(--sg-background-color, var(--theme-background, var(--jp-layout-color0, #111)));\n",
              "    --sklearn-color-border-box: var(--sg-text-color, var(--theme-code-foreground, var(--jp-content-font-color1, white)));\n",
              "    --sklearn-color-icon: #878787;\n",
              "  }\n",
              "}\n",
              "\n",
              "#sk-container-id-1 {\n",
              "  color: var(--sklearn-color-text);\n",
              "}\n",
              "\n",
              "#sk-container-id-1 pre {\n",
              "  padding: 0;\n",
              "}\n",
              "\n",
              "#sk-container-id-1 input.sk-hidden--visually {\n",
              "  border: 0;\n",
              "  clip: rect(1px 1px 1px 1px);\n",
              "  clip: rect(1px, 1px, 1px, 1px);\n",
              "  height: 1px;\n",
              "  margin: -1px;\n",
              "  overflow: hidden;\n",
              "  padding: 0;\n",
              "  position: absolute;\n",
              "  width: 1px;\n",
              "}\n",
              "\n",
              "#sk-container-id-1 div.sk-dashed-wrapped {\n",
              "  border: 1px dashed var(--sklearn-color-line);\n",
              "  margin: 0 0.4em 0.5em 0.4em;\n",
              "  box-sizing: border-box;\n",
              "  padding-bottom: 0.4em;\n",
              "  background-color: var(--sklearn-color-background);\n",
              "}\n",
              "\n",
              "#sk-container-id-1 div.sk-container {\n",
              "  /* jupyter's `normalize.less` sets `[hidden] { display: none; }`\n",
              "     but bootstrap.min.css set `[hidden] { display: none !important; }`\n",
              "     so we also need the `!important` here to be able to override the\n",
              "     default hidden behavior on the sphinx rendered scikit-learn.org.\n",
              "     See: https://github.com/scikit-learn/scikit-learn/issues/21755 */\n",
              "  display: inline-block !important;\n",
              "  position: relative;\n",
              "}\n",
              "\n",
              "#sk-container-id-1 div.sk-text-repr-fallback {\n",
              "  display: none;\n",
              "}\n",
              "\n",
              "div.sk-parallel-item,\n",
              "div.sk-serial,\n",
              "div.sk-item {\n",
              "  /* draw centered vertical line to link estimators */\n",
              "  background-image: linear-gradient(var(--sklearn-color-text-on-default-background), var(--sklearn-color-text-on-default-background));\n",
              "  background-size: 2px 100%;\n",
              "  background-repeat: no-repeat;\n",
              "  background-position: center center;\n",
              "}\n",
              "\n",
              "/* Parallel-specific style estimator block */\n",
              "\n",
              "#sk-container-id-1 div.sk-parallel-item::after {\n",
              "  content: \"\";\n",
              "  width: 100%;\n",
              "  border-bottom: 2px solid var(--sklearn-color-text-on-default-background);\n",
              "  flex-grow: 1;\n",
              "}\n",
              "\n",
              "#sk-container-id-1 div.sk-parallel {\n",
              "  display: flex;\n",
              "  align-items: stretch;\n",
              "  justify-content: center;\n",
              "  background-color: var(--sklearn-color-background);\n",
              "  position: relative;\n",
              "}\n",
              "\n",
              "#sk-container-id-1 div.sk-parallel-item {\n",
              "  display: flex;\n",
              "  flex-direction: column;\n",
              "}\n",
              "\n",
              "#sk-container-id-1 div.sk-parallel-item:first-child::after {\n",
              "  align-self: flex-end;\n",
              "  width: 50%;\n",
              "}\n",
              "\n",
              "#sk-container-id-1 div.sk-parallel-item:last-child::after {\n",
              "  align-self: flex-start;\n",
              "  width: 50%;\n",
              "}\n",
              "\n",
              "#sk-container-id-1 div.sk-parallel-item:only-child::after {\n",
              "  width: 0;\n",
              "}\n",
              "\n",
              "/* Serial-specific style estimator block */\n",
              "\n",
              "#sk-container-id-1 div.sk-serial {\n",
              "  display: flex;\n",
              "  flex-direction: column;\n",
              "  align-items: center;\n",
              "  background-color: var(--sklearn-color-background);\n",
              "  padding-right: 1em;\n",
              "  padding-left: 1em;\n",
              "}\n",
              "\n",
              "\n",
              "/* Toggleable style: style used for estimator/Pipeline/ColumnTransformer box that is\n",
              "clickable and can be expanded/collapsed.\n",
              "- Pipeline and ColumnTransformer use this feature and define the default style\n",
              "- Estimators will overwrite some part of the style using the `sk-estimator` class\n",
              "*/\n",
              "\n",
              "/* Pipeline and ColumnTransformer style (default) */\n",
              "\n",
              "#sk-container-id-1 div.sk-toggleable {\n",
              "  /* Default theme specific background. It is overwritten whether we have a\n",
              "  specific estimator or a Pipeline/ColumnTransformer */\n",
              "  background-color: var(--sklearn-color-background);\n",
              "}\n",
              "\n",
              "/* Toggleable label */\n",
              "#sk-container-id-1 label.sk-toggleable__label {\n",
              "  cursor: pointer;\n",
              "  display: block;\n",
              "  width: 100%;\n",
              "  margin-bottom: 0;\n",
              "  padding: 0.5em;\n",
              "  box-sizing: border-box;\n",
              "  text-align: center;\n",
              "}\n",
              "\n",
              "#sk-container-id-1 label.sk-toggleable__label-arrow:before {\n",
              "  /* Arrow on the left of the label */\n",
              "  content: \"▸\";\n",
              "  float: left;\n",
              "  margin-right: 0.25em;\n",
              "  color: var(--sklearn-color-icon);\n",
              "}\n",
              "\n",
              "#sk-container-id-1 label.sk-toggleable__label-arrow:hover:before {\n",
              "  color: var(--sklearn-color-text);\n",
              "}\n",
              "\n",
              "/* Toggleable content - dropdown */\n",
              "\n",
              "#sk-container-id-1 div.sk-toggleable__content {\n",
              "  max-height: 0;\n",
              "  max-width: 0;\n",
              "  overflow: hidden;\n",
              "  text-align: left;\n",
              "  /* unfitted */\n",
              "  background-color: var(--sklearn-color-unfitted-level-0);\n",
              "}\n",
              "\n",
              "#sk-container-id-1 div.sk-toggleable__content.fitted {\n",
              "  /* fitted */\n",
              "  background-color: var(--sklearn-color-fitted-level-0);\n",
              "}\n",
              "\n",
              "#sk-container-id-1 div.sk-toggleable__content pre {\n",
              "  margin: 0.2em;\n",
              "  border-radius: 0.25em;\n",
              "  color: var(--sklearn-color-text);\n",
              "  /* unfitted */\n",
              "  background-color: var(--sklearn-color-unfitted-level-0);\n",
              "}\n",
              "\n",
              "#sk-container-id-1 div.sk-toggleable__content.fitted pre {\n",
              "  /* unfitted */\n",
              "  background-color: var(--sklearn-color-fitted-level-0);\n",
              "}\n",
              "\n",
              "#sk-container-id-1 input.sk-toggleable__control:checked~div.sk-toggleable__content {\n",
              "  /* Expand drop-down */\n",
              "  max-height: 200px;\n",
              "  max-width: 100%;\n",
              "  overflow: auto;\n",
              "}\n",
              "\n",
              "#sk-container-id-1 input.sk-toggleable__control:checked~label.sk-toggleable__label-arrow:before {\n",
              "  content: \"▾\";\n",
              "}\n",
              "\n",
              "/* Pipeline/ColumnTransformer-specific style */\n",
              "\n",
              "#sk-container-id-1 div.sk-label input.sk-toggleable__control:checked~label.sk-toggleable__label {\n",
              "  color: var(--sklearn-color-text);\n",
              "  background-color: var(--sklearn-color-unfitted-level-2);\n",
              "}\n",
              "\n",
              "#sk-container-id-1 div.sk-label.fitted input.sk-toggleable__control:checked~label.sk-toggleable__label {\n",
              "  background-color: var(--sklearn-color-fitted-level-2);\n",
              "}\n",
              "\n",
              "/* Estimator-specific style */\n",
              "\n",
              "/* Colorize estimator box */\n",
              "#sk-container-id-1 div.sk-estimator input.sk-toggleable__control:checked~label.sk-toggleable__label {\n",
              "  /* unfitted */\n",
              "  background-color: var(--sklearn-color-unfitted-level-2);\n",
              "}\n",
              "\n",
              "#sk-container-id-1 div.sk-estimator.fitted input.sk-toggleable__control:checked~label.sk-toggleable__label {\n",
              "  /* fitted */\n",
              "  background-color: var(--sklearn-color-fitted-level-2);\n",
              "}\n",
              "\n",
              "#sk-container-id-1 div.sk-label label.sk-toggleable__label,\n",
              "#sk-container-id-1 div.sk-label label {\n",
              "  /* The background is the default theme color */\n",
              "  color: var(--sklearn-color-text-on-default-background);\n",
              "}\n",
              "\n",
              "/* On hover, darken the color of the background */\n",
              "#sk-container-id-1 div.sk-label:hover label.sk-toggleable__label {\n",
              "  color: var(--sklearn-color-text);\n",
              "  background-color: var(--sklearn-color-unfitted-level-2);\n",
              "}\n",
              "\n",
              "/* Label box, darken color on hover, fitted */\n",
              "#sk-container-id-1 div.sk-label.fitted:hover label.sk-toggleable__label.fitted {\n",
              "  color: var(--sklearn-color-text);\n",
              "  background-color: var(--sklearn-color-fitted-level-2);\n",
              "}\n",
              "\n",
              "/* Estimator label */\n",
              "\n",
              "#sk-container-id-1 div.sk-label label {\n",
              "  font-family: monospace;\n",
              "  font-weight: bold;\n",
              "  display: inline-block;\n",
              "  line-height: 1.2em;\n",
              "}\n",
              "\n",
              "#sk-container-id-1 div.sk-label-container {\n",
              "  text-align: center;\n",
              "}\n",
              "\n",
              "/* Estimator-specific */\n",
              "#sk-container-id-1 div.sk-estimator {\n",
              "  font-family: monospace;\n",
              "  border: 1px dotted var(--sklearn-color-border-box);\n",
              "  border-radius: 0.25em;\n",
              "  box-sizing: border-box;\n",
              "  margin-bottom: 0.5em;\n",
              "  /* unfitted */\n",
              "  background-color: var(--sklearn-color-unfitted-level-0);\n",
              "}\n",
              "\n",
              "#sk-container-id-1 div.sk-estimator.fitted {\n",
              "  /* fitted */\n",
              "  background-color: var(--sklearn-color-fitted-level-0);\n",
              "}\n",
              "\n",
              "/* on hover */\n",
              "#sk-container-id-1 div.sk-estimator:hover {\n",
              "  /* unfitted */\n",
              "  background-color: var(--sklearn-color-unfitted-level-2);\n",
              "}\n",
              "\n",
              "#sk-container-id-1 div.sk-estimator.fitted:hover {\n",
              "  /* fitted */\n",
              "  background-color: var(--sklearn-color-fitted-level-2);\n",
              "}\n",
              "\n",
              "/* Specification for estimator info (e.g. \"i\" and \"?\") */\n",
              "\n",
              "/* Common style for \"i\" and \"?\" */\n",
              "\n",
              ".sk-estimator-doc-link,\n",
              "a:link.sk-estimator-doc-link,\n",
              "a:visited.sk-estimator-doc-link {\n",
              "  float: right;\n",
              "  font-size: smaller;\n",
              "  line-height: 1em;\n",
              "  font-family: monospace;\n",
              "  background-color: var(--sklearn-color-background);\n",
              "  border-radius: 1em;\n",
              "  height: 1em;\n",
              "  width: 1em;\n",
              "  text-decoration: none !important;\n",
              "  margin-left: 1ex;\n",
              "  /* unfitted */\n",
              "  border: var(--sklearn-color-unfitted-level-1) 1pt solid;\n",
              "  color: var(--sklearn-color-unfitted-level-1);\n",
              "}\n",
              "\n",
              ".sk-estimator-doc-link.fitted,\n",
              "a:link.sk-estimator-doc-link.fitted,\n",
              "a:visited.sk-estimator-doc-link.fitted {\n",
              "  /* fitted */\n",
              "  border: var(--sklearn-color-fitted-level-1) 1pt solid;\n",
              "  color: var(--sklearn-color-fitted-level-1);\n",
              "}\n",
              "\n",
              "/* On hover */\n",
              "div.sk-estimator:hover .sk-estimator-doc-link:hover,\n",
              ".sk-estimator-doc-link:hover,\n",
              "div.sk-label-container:hover .sk-estimator-doc-link:hover,\n",
              ".sk-estimator-doc-link:hover {\n",
              "  /* unfitted */\n",
              "  background-color: var(--sklearn-color-unfitted-level-3);\n",
              "  color: var(--sklearn-color-background);\n",
              "  text-decoration: none;\n",
              "}\n",
              "\n",
              "div.sk-estimator.fitted:hover .sk-estimator-doc-link.fitted:hover,\n",
              ".sk-estimator-doc-link.fitted:hover,\n",
              "div.sk-label-container:hover .sk-estimator-doc-link.fitted:hover,\n",
              ".sk-estimator-doc-link.fitted:hover {\n",
              "  /* fitted */\n",
              "  background-color: var(--sklearn-color-fitted-level-3);\n",
              "  color: var(--sklearn-color-background);\n",
              "  text-decoration: none;\n",
              "}\n",
              "\n",
              "/* Span, style for the box shown on hovering the info icon */\n",
              ".sk-estimator-doc-link span {\n",
              "  display: none;\n",
              "  z-index: 9999;\n",
              "  position: relative;\n",
              "  font-weight: normal;\n",
              "  right: .2ex;\n",
              "  padding: .5ex;\n",
              "  margin: .5ex;\n",
              "  width: min-content;\n",
              "  min-width: 20ex;\n",
              "  max-width: 50ex;\n",
              "  color: var(--sklearn-color-text);\n",
              "  box-shadow: 2pt 2pt 4pt #999;\n",
              "  /* unfitted */\n",
              "  background: var(--sklearn-color-unfitted-level-0);\n",
              "  border: .5pt solid var(--sklearn-color-unfitted-level-3);\n",
              "}\n",
              "\n",
              ".sk-estimator-doc-link.fitted span {\n",
              "  /* fitted */\n",
              "  background: var(--sklearn-color-fitted-level-0);\n",
              "  border: var(--sklearn-color-fitted-level-3);\n",
              "}\n",
              "\n",
              ".sk-estimator-doc-link:hover span {\n",
              "  display: block;\n",
              "}\n",
              "\n",
              "/* \"?\"-specific style due to the `<a>` HTML tag */\n",
              "\n",
              "#sk-container-id-1 a.estimator_doc_link {\n",
              "  float: right;\n",
              "  font-size: 1rem;\n",
              "  line-height: 1em;\n",
              "  font-family: monospace;\n",
              "  background-color: var(--sklearn-color-background);\n",
              "  border-radius: 1rem;\n",
              "  height: 1rem;\n",
              "  width: 1rem;\n",
              "  text-decoration: none;\n",
              "  /* unfitted */\n",
              "  color: var(--sklearn-color-unfitted-level-1);\n",
              "  border: var(--sklearn-color-unfitted-level-1) 1pt solid;\n",
              "}\n",
              "\n",
              "#sk-container-id-1 a.estimator_doc_link.fitted {\n",
              "  /* fitted */\n",
              "  border: var(--sklearn-color-fitted-level-1) 1pt solid;\n",
              "  color: var(--sklearn-color-fitted-level-1);\n",
              "}\n",
              "\n",
              "/* On hover */\n",
              "#sk-container-id-1 a.estimator_doc_link:hover {\n",
              "  /* unfitted */\n",
              "  background-color: var(--sklearn-color-unfitted-level-3);\n",
              "  color: var(--sklearn-color-background);\n",
              "  text-decoration: none;\n",
              "}\n",
              "\n",
              "#sk-container-id-1 a.estimator_doc_link.fitted:hover {\n",
              "  /* fitted */\n",
              "  background-color: var(--sklearn-color-fitted-level-3);\n",
              "}\n",
              "</style><div id=\"sk-container-id-1\" class=\"sk-top-container\"><div class=\"sk-text-repr-fallback\"><pre>Pipeline(steps=[(&#x27;Imputer&#x27;, KNNImputer(n_neighbors=3)),\n",
              "                (&#x27;Scaler&#x27;, RobustScaler())])</pre><b>In a Jupyter environment, please rerun this cell to show the HTML representation or trust the notebook. <br />On GitHub, the HTML representation is unable to render, please try loading this page with nbviewer.org.</b></div><div class=\"sk-container\" hidden><div class=\"sk-item sk-dashed-wrapped\"><div class=\"sk-label-container\"><div class=\"sk-label  sk-toggleable\"><input class=\"sk-toggleable__control sk-hidden--visually\" id=\"sk-estimator-id-1\" type=\"checkbox\" ><label for=\"sk-estimator-id-1\" class=\"sk-toggleable__label  sk-toggleable__label-arrow \">&nbsp;&nbsp;Pipeline<a class=\"sk-estimator-doc-link \" rel=\"noreferrer\" target=\"_blank\" href=\"https://scikit-learn.org/1.5/modules/generated/sklearn.pipeline.Pipeline.html\">?<span>Documentation for Pipeline</span></a><span class=\"sk-estimator-doc-link \">i<span>Not fitted</span></span></label><div class=\"sk-toggleable__content \"><pre>Pipeline(steps=[(&#x27;Imputer&#x27;, KNNImputer(n_neighbors=3)),\n",
              "                (&#x27;Scaler&#x27;, RobustScaler())])</pre></div> </div></div><div class=\"sk-serial\"><div class=\"sk-item\"><div class=\"sk-estimator  sk-toggleable\"><input class=\"sk-toggleable__control sk-hidden--visually\" id=\"sk-estimator-id-2\" type=\"checkbox\" ><label for=\"sk-estimator-id-2\" class=\"sk-toggleable__label  sk-toggleable__label-arrow \">&nbsp;KNNImputer<a class=\"sk-estimator-doc-link \" rel=\"noreferrer\" target=\"_blank\" href=\"https://scikit-learn.org/1.5/modules/generated/sklearn.impute.KNNImputer.html\">?<span>Documentation for KNNImputer</span></a></label><div class=\"sk-toggleable__content \"><pre>KNNImputer(n_neighbors=3)</pre></div> </div></div><div class=\"sk-item\"><div class=\"sk-estimator  sk-toggleable\"><input class=\"sk-toggleable__control sk-hidden--visually\" id=\"sk-estimator-id-3\" type=\"checkbox\" ><label for=\"sk-estimator-id-3\" class=\"sk-toggleable__label  sk-toggleable__label-arrow \">&nbsp;RobustScaler<a class=\"sk-estimator-doc-link \" rel=\"noreferrer\" target=\"_blank\" href=\"https://scikit-learn.org/1.5/modules/generated/sklearn.preprocessing.RobustScaler.html\">?<span>Documentation for RobustScaler</span></a></label><div class=\"sk-toggleable__content \"><pre>RobustScaler()</pre></div> </div></div></div></div></div></div>"
            ]
          },
          "metadata": {},
          "execution_count": 33
        }
      ]
    },
    {
      "cell_type": "code",
      "source": [
        "X_trans = preprocessing_pipeline.fit_transform(X)\n",
        "print(\"shape of the transformer set: \", X_trans.shape)\n",
        "X_trans"
      ],
      "metadata": {
        "colab": {
          "base_uri": "https://localhost:8080/"
        },
        "id": "CbArqKDqEccj",
        "outputId": "71405559-cbfd-4441-d3a9-6fb60635fd9f"
      },
      "execution_count": 34,
      "outputs": [
        {
          "output_type": "stream",
          "name": "stdout",
          "text": [
            "shape of the transformer set:  (80, 465)\n"
          ]
        },
        {
          "output_type": "execute_result",
          "data": {
            "text/plain": [
              "array([[-0.02781221,  0.37395233, -0.4289214 , ...,  0.        ,\n",
              "         0.75955556,  0.        ],\n",
              "       [ 2.50431022, -1.38644649, -0.47986463, ..., -0.51612903,\n",
              "        -0.52610857,  0.        ],\n",
              "       [-0.60204699,  0.28110298, -0.49685153, ...,  0.58064516,\n",
              "        -0.08775867,  0.        ],\n",
              "       ...,\n",
              "       [-0.03223295,  0.21779093,  1.03590393, ...,  0.12903226,\n",
              "        -0.17805529,  0.        ],\n",
              "       [ 0.03396281,  0.87459106,  0.53517467, ...,  0.29032258,\n",
              "         0.28421459,  0.        ],\n",
              "       [ 0.86164048,  0.3813055 , -0.59146288, ..., -0.16129032,\n",
              "        -0.20782888,  0.        ]])"
            ]
          },
          "metadata": {},
          "execution_count": 34
        }
      ]
    },
    {
      "cell_type": "markdown",
      "source": [
        "Resampling of Training Instance"
      ],
      "metadata": {
        "id": "8uhYbB_xG9f0"
      }
    },
    {
      "cell_type": "code",
      "source": [
        "%pip install imbalanced-learn"
      ],
      "metadata": {
        "colab": {
          "base_uri": "https://localhost:8080/"
        },
        "id": "kLqY-QumGVxj",
        "outputId": "fcb4ec40-b005-4bfe-a3c1-87de8a7ee951"
      },
      "execution_count": 36,
      "outputs": [
        {
          "output_type": "stream",
          "name": "stdout",
          "text": [
            "Requirement already satisfied: imbalanced-learn in /usr/local/lib/python3.10/dist-packages (0.12.4)\n",
            "Requirement already satisfied: numpy>=1.17.3 in /usr/local/lib/python3.10/dist-packages (from imbalanced-learn) (1.26.4)\n",
            "Requirement already satisfied: scipy>=1.5.0 in /usr/local/lib/python3.10/dist-packages (from imbalanced-learn) (1.13.1)\n",
            "Requirement already satisfied: scikit-learn>=1.0.2 in /usr/local/lib/python3.10/dist-packages (from imbalanced-learn) (1.5.2)\n",
            "Requirement already satisfied: joblib>=1.1.1 in /usr/local/lib/python3.10/dist-packages (from imbalanced-learn) (1.4.2)\n",
            "Requirement already satisfied: threadpoolctl>=2.0.0 in /usr/local/lib/python3.10/dist-packages (from imbalanced-learn) (3.5.0)\n"
          ]
        }
      ]
    },
    {
      "cell_type": "code",
      "source": [
        "from imblearn.combine import SMOTETomek\n",
        "\n",
        "X, y = X_trans[:, :-1], y\n",
        "resampler = SMOTETomek(sampling_strategy='auto')\n",
        "X_res, y_res = resampler.fit_resample(X, y)"
      ],
      "metadata": {
        "id": "0nwIQNJyFjWn"
      },
      "execution_count": 40,
      "outputs": []
    },
    {
      "cell_type": "code",
      "source": [
        "print(\"before resampling, Shape of training instance:\", np.c_[X, y].shape)\n",
        "print(\"after resampling, shape of training instance: \", np.c_[X_res, y_res].shape)"
      ],
      "metadata": {
        "colab": {
          "base_uri": "https://localhost:8080/"
        },
        "id": "5FowGOTrGS1S",
        "outputId": "1a05b5a0-ec99-4af7-a54c-6eaf8fa4f9aa"
      },
      "execution_count": 42,
      "outputs": [
        {
          "output_type": "stream",
          "name": "stdout",
          "text": [
            "before resampling, Shape of training instance: (80, 465)\n",
            "after resampling, shape of training instance:  (148, 465)\n"
          ]
        }
      ]
    },
    {
      "cell_type": "code",
      "source": [
        "np.unique(y_res)"
      ],
      "metadata": {
        "colab": {
          "base_uri": "https://localhost:8080/"
        },
        "id": "Y-d0aQNeGQWa",
        "outputId": "1be42fe1-f9d6-40b0-dbae-c1c03b3bbe60"
      },
      "execution_count": 46,
      "outputs": [
        {
          "output_type": "execute_result",
          "data": {
            "text/plain": [
              "array([-1,  1])"
            ]
          },
          "metadata": {},
          "execution_count": 46
        }
      ]
    },
    {
      "cell_type": "code",
      "source": [
        "print(f\"value_count:\\n-1: {len(y_res[y_res == -1])}, 1: {len(y_res[y_res == 1])}\")"
      ],
      "metadata": {
        "colab": {
          "base_uri": "https://localhost:8080/"
        },
        "id": "oQ37xKJtGRxb",
        "outputId": "ba37e4b7-e18d-42b1-e7f5-4b5b9ff029d8"
      },
      "execution_count": 47,
      "outputs": [
        {
          "output_type": "stream",
          "name": "stdout",
          "text": [
            "value_count:\n",
            "-1: 148, 1: 148\n"
          ]
        }
      ]
    },
    {
      "cell_type": "markdown",
      "source": [
        "Prepare the test set:\n"
      ],
      "metadata": {
        "id": "E_lYLnbLJGMR"
      }
    },
    {
      "cell_type": "code",
      "source": [
        "from sklearn.model_selection import train_test_split\n",
        "\n",
        "X_train, X_test, y_train, y_test = train_test_split(X_res, y_res, test_size=0.20, random_state=42)"
      ],
      "metadata": {
        "id": "Mvo1awu6JOKh"
      },
      "execution_count": 51,
      "outputs": []
    },
    {
      "cell_type": "code",
      "source": [
        "X_train.shape, X_test.shape"
      ],
      "metadata": {
        "colab": {
          "base_uri": "https://localhost:8080/"
        },
        "id": "xvUFC7y5JlmC",
        "outputId": "6ec0fc2e-57aa-4e38-88f3-1c983c0e68db"
      },
      "execution_count": 52,
      "outputs": [
        {
          "output_type": "execute_result",
          "data": {
            "text/plain": [
              "((118, 464), (30, 464))"
            ]
          },
          "metadata": {},
          "execution_count": 52
        }
      ]
    },
    {
      "cell_type": "code",
      "source": [],
      "metadata": {
        "id": "_CjIeNVEJxYZ"
      },
      "execution_count": null,
      "outputs": []
    }
  ]
}